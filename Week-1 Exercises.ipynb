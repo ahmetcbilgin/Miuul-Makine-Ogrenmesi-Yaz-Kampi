{
 "cells": [
  {
   "cell_type": "markdown",
   "id": "c9e3255e",
   "metadata": {},
   "source": [
    "# Python Alıştırmalar"
   ]
  },
  {
   "cell_type": "markdown",
   "id": "341a097b",
   "metadata": {},
   "source": [
    "#### Görev 1:  Verilen değerlerin veri yapılarını inceleyiniz.Type() metodunu kullanınız."
   ]
  },
  {
   "cell_type": "code",
   "execution_count": 1,
   "id": "c09ab3e4",
   "metadata": {},
   "outputs": [],
   "source": [
    "x = 8"
   ]
  },
  {
   "cell_type": "code",
   "execution_count": 2,
   "id": "b428e2b8",
   "metadata": {},
   "outputs": [
    {
     "data": {
      "text/plain": [
       "int"
      ]
     },
     "execution_count": 2,
     "metadata": {},
     "output_type": "execute_result"
    }
   ],
   "source": [
    "type(x)"
   ]
  },
  {
   "cell_type": "code",
   "execution_count": 3,
   "id": "b0df65b1",
   "metadata": {},
   "outputs": [],
   "source": [
    "y = 3.2"
   ]
  },
  {
   "cell_type": "code",
   "execution_count": 4,
   "id": "332a523b",
   "metadata": {},
   "outputs": [
    {
     "data": {
      "text/plain": [
       "float"
      ]
     },
     "execution_count": 4,
     "metadata": {},
     "output_type": "execute_result"
    }
   ],
   "source": [
    "type(y)"
   ]
  },
  {
   "cell_type": "code",
   "execution_count": 5,
   "id": "69a55397",
   "metadata": {},
   "outputs": [],
   "source": [
    "z = 8j + 18"
   ]
  },
  {
   "cell_type": "code",
   "execution_count": 6,
   "id": "1154c423",
   "metadata": {},
   "outputs": [
    {
     "data": {
      "text/plain": [
       "complex"
      ]
     },
     "execution_count": 6,
     "metadata": {},
     "output_type": "execute_result"
    }
   ],
   "source": [
    "type(z)"
   ]
  },
  {
   "cell_type": "code",
   "execution_count": 7,
   "id": "e6588173",
   "metadata": {},
   "outputs": [],
   "source": [
    "a = \"Hello World!\""
   ]
  },
  {
   "cell_type": "code",
   "execution_count": 8,
   "id": "23df8b75",
   "metadata": {},
   "outputs": [
    {
     "data": {
      "text/plain": [
       "str"
      ]
     },
     "execution_count": 8,
     "metadata": {},
     "output_type": "execute_result"
    }
   ],
   "source": [
    "type(a)"
   ]
  },
  {
   "cell_type": "code",
   "execution_count": 9,
   "id": "089030bc",
   "metadata": {},
   "outputs": [],
   "source": [
    "b = True"
   ]
  },
  {
   "cell_type": "code",
   "execution_count": 10,
   "id": "95b8f295",
   "metadata": {},
   "outputs": [
    {
     "data": {
      "text/plain": [
       "bool"
      ]
     },
     "execution_count": 10,
     "metadata": {},
     "output_type": "execute_result"
    }
   ],
   "source": [
    "type(b)"
   ]
  },
  {
   "cell_type": "code",
   "execution_count": 11,
   "id": "0bac7c56",
   "metadata": {},
   "outputs": [],
   "source": [
    " c = 23 < 22"
   ]
  },
  {
   "cell_type": "code",
   "execution_count": 12,
   "id": "a2773ccd",
   "metadata": {},
   "outputs": [
    {
     "data": {
      "text/plain": [
       "bool"
      ]
     },
     "execution_count": 12,
     "metadata": {},
     "output_type": "execute_result"
    }
   ],
   "source": [
    "type(c)"
   ]
  },
  {
   "cell_type": "code",
   "execution_count": 13,
   "id": "2d2b3cab",
   "metadata": {},
   "outputs": [],
   "source": [
    "l = [1, 2, 3, 4]"
   ]
  },
  {
   "cell_type": "code",
   "execution_count": 14,
   "id": "f8742ae1",
   "metadata": {},
   "outputs": [
    {
     "data": {
      "text/plain": [
       "list"
      ]
     },
     "execution_count": 14,
     "metadata": {},
     "output_type": "execute_result"
    }
   ],
   "source": [
    "type(l)"
   ]
  },
  {
   "cell_type": "code",
   "execution_count": 15,
   "id": "6981c90a",
   "metadata": {},
   "outputs": [],
   "source": [
    "d = {\n",
    "    \"Name\" : \"Jake\",\n",
    "    \"Age\" : 27,\n",
    "    \"Address\" : \"Downtown\"\n",
    "}"
   ]
  },
  {
   "cell_type": "code",
   "execution_count": 16,
   "id": "5b80a515",
   "metadata": {},
   "outputs": [
    {
     "data": {
      "text/plain": [
       "dict"
      ]
     },
     "execution_count": 16,
     "metadata": {},
     "output_type": "execute_result"
    }
   ],
   "source": [
    "type(d)"
   ]
  },
  {
   "cell_type": "code",
   "execution_count": 17,
   "id": "8c70a629",
   "metadata": {},
   "outputs": [],
   "source": [
    "t = (\"Machine Learning\", \"Data Science\")"
   ]
  },
  {
   "cell_type": "code",
   "execution_count": 18,
   "id": "fe7f107e",
   "metadata": {},
   "outputs": [
    {
     "data": {
      "text/plain": [
       "tuple"
      ]
     },
     "execution_count": 18,
     "metadata": {},
     "output_type": "execute_result"
    }
   ],
   "source": [
    "type(t)"
   ]
  },
  {
   "cell_type": "code",
   "execution_count": 19,
   "id": "73733efd",
   "metadata": {},
   "outputs": [],
   "source": [
    "s = {\"Python\", \"Machine Learning\", \"Data Science\"}"
   ]
  },
  {
   "cell_type": "code",
   "execution_count": 20,
   "id": "a451e4e8",
   "metadata": {},
   "outputs": [
    {
     "data": {
      "text/plain": [
       "set"
      ]
     },
     "execution_count": 20,
     "metadata": {},
     "output_type": "execute_result"
    }
   ],
   "source": [
    "type(s)"
   ]
  },
  {
   "cell_type": "markdown",
   "id": "528982e5",
   "metadata": {},
   "source": [
    "#### Görev 2:  Verilen string ifadenin tüm harflerini büyük harfe çeviriniz. Virgül ve nokta yerine space koyunuz, kelime kelime ayırınız."
   ]
  },
  {
   "cell_type": "code",
   "execution_count": 21,
   "id": "a0de9e39",
   "metadata": {},
   "outputs": [],
   "source": [
    "text=\"The goal is to turn data into infromation, and information into insight\""
   ]
  },
  {
   "cell_type": "code",
   "execution_count": 22,
   "id": "379a1e31",
   "metadata": {},
   "outputs": [
    {
     "data": {
      "text/plain": [
       "['THE',\n",
       " 'GOAL',\n",
       " 'IS',\n",
       " 'TO',\n",
       " 'TURN',\n",
       " 'DATA',\n",
       " 'INTO',\n",
       " 'INFROMATION',\n",
       " 'AND',\n",
       " 'INFORMATION',\n",
       " 'INTO',\n",
       " 'INSIGHT']"
      ]
     },
     "execution_count": 22,
     "metadata": {},
     "output_type": "execute_result"
    }
   ],
   "source": [
    "text.upper().replace(\",\", \" \").replace(\".\", \" \").split()"
   ]
  },
  {
   "cell_type": "markdown",
   "id": "0fb13568",
   "metadata": {},
   "source": [
    "#### Görev 3:  Verilen listeye aşağıdaki adımları uygulayınız."
   ]
  },
  {
   "cell_type": "code",
   "execution_count": 23,
   "id": "fe894b29",
   "metadata": {},
   "outputs": [],
   "source": [
    "lst=[\"D\",\"A\",\"T\",\"A\",\"S\",\"C\",\"I\",\"E\",\"N\",\"C\",\"E\"]"
   ]
  },
  {
   "cell_type": "markdown",
   "id": "8b855add",
   "metadata": {},
   "source": [
    "Adım1: Verilen listenin eleman sayısına bakınız."
   ]
  },
  {
   "cell_type": "code",
   "execution_count": 24,
   "id": "76bcc85a",
   "metadata": {},
   "outputs": [
    {
     "data": {
      "text/plain": [
       "11"
      ]
     },
     "execution_count": 24,
     "metadata": {},
     "output_type": "execute_result"
    }
   ],
   "source": [
    "len(lst)"
   ]
  },
  {
   "cell_type": "markdown",
   "id": "32991d3e",
   "metadata": {},
   "source": [
    "Adım2: Sıfırıncı ve onuncu indeksteki elemanları çağırınız."
   ]
  },
  {
   "cell_type": "code",
   "execution_count": 25,
   "id": "f7b50ed6",
   "metadata": {},
   "outputs": [
    {
     "data": {
      "text/plain": [
       "('D', 'E')"
      ]
     },
     "execution_count": 25,
     "metadata": {},
     "output_type": "execute_result"
    }
   ],
   "source": [
    "lst[0] ,lst[10]"
   ]
  },
  {
   "cell_type": "markdown",
   "id": "958c08c7",
   "metadata": {},
   "source": [
    "Adım3: Verilen liste üzerinden [\"D\", \"A\", \"T\", \"A\"] listesi oluşturunuz.\n"
   ]
  },
  {
   "cell_type": "code",
   "execution_count": 26,
   "id": "863cda58",
   "metadata": {},
   "outputs": [
    {
     "data": {
      "text/plain": [
       "['D', 'A', 'T', 'A']"
      ]
     },
     "execution_count": 26,
     "metadata": {},
     "output_type": "execute_result"
    }
   ],
   "source": [
    "newlst= lst[0:4]\n",
    "newlst"
   ]
  },
  {
   "cell_type": "markdown",
   "id": "197566d1",
   "metadata": {},
   "source": [
    "Adım4: Sekizinci indeksteki elemanı siliniz."
   ]
  },
  {
   "cell_type": "code",
   "execution_count": 27,
   "id": "a66315f2",
   "metadata": {},
   "outputs": [
    {
     "data": {
      "text/plain": [
       "['D', 'A', 'T', 'A', 'S', 'C', 'I', 'E', 'C', 'E']"
      ]
     },
     "execution_count": 27,
     "metadata": {},
     "output_type": "execute_result"
    }
   ],
   "source": [
    "lst.pop(8)\n",
    "lst"
   ]
  },
  {
   "cell_type": "markdown",
   "id": "368a128c",
   "metadata": {},
   "source": [
    "Adım5: Yeni bir eleman ekleyiniz."
   ]
  },
  {
   "cell_type": "code",
   "execution_count": 28,
   "id": "85ec0453",
   "metadata": {},
   "outputs": [
    {
     "data": {
      "text/plain": [
       "['D', 'A', 'T', 'A', 'S', 'C', 'I', 'E', 'C', 'E', 'X']"
      ]
     },
     "execution_count": 28,
     "metadata": {},
     "output_type": "execute_result"
    }
   ],
   "source": [
    "lst.append(\"X\")\n",
    "lst"
   ]
  },
  {
   "cell_type": "markdown",
   "id": "85e7ca23",
   "metadata": {},
   "source": [
    "Adım6: Sekizinci indekse \"N\" elemanını tekrar ekleyiniz."
   ]
  },
  {
   "cell_type": "code",
   "execution_count": 29,
   "id": "560cada6",
   "metadata": {},
   "outputs": [
    {
     "data": {
      "text/plain": [
       "['D', 'A', 'T', 'A', 'S', 'C', 'I', 'E', 'N', 'C', 'E', 'X']"
      ]
     },
     "execution_count": 29,
     "metadata": {},
     "output_type": "execute_result"
    }
   ],
   "source": [
    "lst.insert(8,\"N\")\n",
    "lst"
   ]
  },
  {
   "cell_type": "markdown",
   "id": "bee89050",
   "metadata": {},
   "source": [
    "#### Görev 4:  Verilen sözlük yapısına aşağıdaki adımları uygulayınız."
   ]
  },
  {
   "cell_type": "code",
   "execution_count": 30,
   "id": "20d06f08",
   "metadata": {},
   "outputs": [],
   "source": [
    "dict= {\n",
    "    \"Christian\" : [\"America\",18],\n",
    "    \"Daisy\" : [\"England\",12],\n",
    "    \"Antonio\" : [\"Spain\",22],\n",
    "    \"Dante\" : [\"Italy\",25],\n",
    "}"
   ]
  },
  {
   "cell_type": "markdown",
   "id": "7b3888f3",
   "metadata": {},
   "source": [
    "Adım 1: Key değerlerine erişiniz."
   ]
  },
  {
   "cell_type": "code",
   "execution_count": 31,
   "id": "bd628dbd",
   "metadata": {},
   "outputs": [
    {
     "data": {
      "text/plain": [
       "dict_keys(['Christian', 'Daisy', 'Antonio', 'Dante'])"
      ]
     },
     "execution_count": 31,
     "metadata": {},
     "output_type": "execute_result"
    }
   ],
   "source": [
    "dict.keys()"
   ]
  },
  {
   "cell_type": "markdown",
   "id": "e7bce842",
   "metadata": {},
   "source": [
    "Adım 2: Value'lara erişiniz."
   ]
  },
  {
   "cell_type": "code",
   "execution_count": 32,
   "id": "404c96f8",
   "metadata": {},
   "outputs": [
    {
     "data": {
      "text/plain": [
       "dict_values([['America', 18], ['England', 12], ['Spain', 22], ['Italy', 25]])"
      ]
     },
     "execution_count": 32,
     "metadata": {},
     "output_type": "execute_result"
    }
   ],
   "source": [
    "dict.values()"
   ]
  },
  {
   "cell_type": "markdown",
   "id": "b8aa3957",
   "metadata": {},
   "source": [
    "Adım 3: Daisy key'ine ait 12 değerini 13 olarak güncelleyiniz."
   ]
  },
  {
   "cell_type": "code",
   "execution_count": 33,
   "id": "7529066c",
   "metadata": {},
   "outputs": [
    {
     "data": {
      "text/plain": [
       "{'Christian': ['America', 18],\n",
       " 'Daisy': ['England', 13],\n",
       " 'Antonio': ['Spain', 22],\n",
       " 'Dante': ['Italy', 25]}"
      ]
     },
     "execution_count": 33,
     "metadata": {},
     "output_type": "execute_result"
    }
   ],
   "source": [
    "dict[\"Daisy\"][1]=13\n",
    "dict"
   ]
  },
  {
   "cell_type": "markdown",
   "id": "f981fc16",
   "metadata": {},
   "source": [
    "Adım 4: Key değeri Ahmet value değeri [Turkey,24] olan yeni bir değer ekleyiniz"
   ]
  },
  {
   "cell_type": "code",
   "execution_count": 34,
   "id": "c1f48049",
   "metadata": {},
   "outputs": [
    {
     "data": {
      "text/plain": [
       "{'Christian': ['America', 18],\n",
       " 'Daisy': ['England', 13],\n",
       " 'Antonio': ['Spain', 22],\n",
       " 'Dante': ['Italy', 25],\n",
       " 'Ahmet': ['Turkey', 24]}"
      ]
     },
     "execution_count": 34,
     "metadata": {},
     "output_type": "execute_result"
    }
   ],
   "source": [
    "dict[\"Ahmet\"] = [\"Turkey\",24]\n",
    "dict"
   ]
  },
  {
   "cell_type": "markdown",
   "id": "5652d891",
   "metadata": {},
   "source": [
    "Adım 5: Antonio'yu dictionary'den siliniz."
   ]
  },
  {
   "cell_type": "code",
   "execution_count": 35,
   "id": "74f6015a",
   "metadata": {},
   "outputs": [
    {
     "data": {
      "text/plain": [
       "['Spain', 22]"
      ]
     },
     "execution_count": 35,
     "metadata": {},
     "output_type": "execute_result"
    }
   ],
   "source": [
    "dict.pop(\"Antonio\")\n"
   ]
  },
  {
   "cell_type": "code",
   "execution_count": 36,
   "id": "a8a2cda2",
   "metadata": {},
   "outputs": [
    {
     "data": {
      "text/plain": [
       "{'Christian': ['America', 18],\n",
       " 'Daisy': ['England', 13],\n",
       " 'Dante': ['Italy', 25],\n",
       " 'Ahmet': ['Turkey', 24]}"
      ]
     },
     "execution_count": 36,
     "metadata": {},
     "output_type": "execute_result"
    }
   ],
   "source": [
    "dict"
   ]
  },
  {
   "cell_type": "markdown",
   "id": "7f7e0c1d",
   "metadata": {},
   "source": [
    "#### Görev 5 : Argüman olarak bir liste alan, listenin içerisindeki tek ve çift sayıları ayrı listelere atayan ve bu listeleri return eden  fonksiyon yazınız"
   ]
  },
  {
   "cell_type": "code",
   "execution_count": 37,
   "id": "0b4ac1ec",
   "metadata": {},
   "outputs": [],
   "source": [
    "l=[2,13,18,93,22]"
   ]
  },
  {
   "cell_type": "code",
   "execution_count": 38,
   "id": "45d1df06",
   "metadata": {},
   "outputs": [],
   "source": [
    "def func(list):\n",
    "    cift=[]\n",
    "    tek=[]\n",
    "    \n",
    "    for i in list:\n",
    "        if i%2==0:\n",
    "            cift.append(i)\n",
    "        else:\n",
    "            tek.append(i)\n",
    "    return cift,tek"
   ]
  },
  {
   "cell_type": "code",
   "execution_count": 39,
   "id": "5207c8a6",
   "metadata": {},
   "outputs": [
    {
     "data": {
      "text/plain": [
       "([2, 18, 22], [13, 93])"
      ]
     },
     "execution_count": 39,
     "metadata": {},
     "output_type": "execute_result"
    }
   ],
   "source": [
    "func(l)"
   ]
  },
  {
   "cell_type": "markdown",
   "id": "f725d6d2",
   "metadata": {},
   "source": [
    "#### Görev 6 : Aşağıda verilen listede mühendislik ve tıp fakülterinde dereceye giren öğrencilerin isimleri bulunmaktadır. Sırasıyla ilk üç öğrenci mühendislik fakültesinin başarı sırasını temsil ederken son üç öğrencide tıp fakültesi öğrenci sırasına aittir. Enumarate kullanarak öğrenci derecelerini fakülte özelinde yazdırınız. "
   ]
  },
  {
   "cell_type": "code",
   "execution_count": 40,
   "id": "2556d65b",
   "metadata": {},
   "outputs": [],
   "source": [
    "ogrenciler=[\"Ali\",\"Veli\",\"Ayşe\",\"Talat\",\"Zeynep\",\"Ece\"]"
   ]
  },
  {
   "cell_type": "code",
   "execution_count": 41,
   "id": "bce9440f",
   "metadata": {},
   "outputs": [
    {
     "name": "stdout",
     "output_type": "stream",
     "text": [
      "Mühendislik Fakültesi 1 . öğrenci:  Ali\n",
      "Mühendislik Fakültesi 2 . öğrenci:  Veli\n",
      "Mühendislik Fakültesi 3 . öğrenci:  Ayşe\n",
      "Tıp Fakültesi 1 . öğrenci:  Talat\n",
      "Tıp Fakültesi 2 . öğrenci:  Zeynep\n",
      "Tıp Fakültesi 3 . öğrenci:  Ece\n"
     ]
    }
   ],
   "source": [
    "for index, ogrenci in enumerate(ogrenciler):\n",
    "    if index < 3:\n",
    "        index += 1\n",
    "        print(\"Mühendislik Fakültesi\",index,\". öğrenci: \",ogrenci)\n",
    "    else:\n",
    "        index -= 2\n",
    "        print(\"Tıp Fakültesi\",index,\". öğrenci: \",ogrenci)"
   ]
  },
  {
   "cell_type": "markdown",
   "id": "ef90dc49",
   "metadata": {},
   "source": [
    "#### Görev 7 : Aşağıda 3 adet liste verilmiştir. Listelerde sırası ile bir dersin kodu, kredisi ve kontenjan bilgileri yer almaktadır. Zip kullanarak ders bilgilerini bastırınız."
   ]
  },
  {
   "cell_type": "code",
   "execution_count": 42,
   "id": "cc7c935c",
   "metadata": {},
   "outputs": [],
   "source": [
    "ders_kodu = [\"CMP1005\",\"PSY1001\",\"HUK1005\",\"SEN2204\"]\n",
    "kredi = [3,4,2,4]\n",
    "kontenjan=[30,75,150,25]"
   ]
  },
  {
   "cell_type": "code",
   "execution_count": 43,
   "id": "872c35d7",
   "metadata": {},
   "outputs": [
    {
     "name": "stdout",
     "output_type": "stream",
     "text": [
      "Kredisi 3 olan CMP1005 kodlu dersin kontenjanı 30 kişidir\n",
      "Kredisi 4 olan PSY1001 kodlu dersin kontenjanı 75 kişidir\n",
      "Kredisi 2 olan HUK1005 kodlu dersin kontenjanı 150 kişidir\n",
      "Kredisi 4 olan SEN2204 kodlu dersin kontenjanı 25 kişidir\n"
     ]
    }
   ],
   "source": [
    "for ders_kodu,kredi,kontenjan in (zip(ders_kodu,kredi,kontenjan)):\n",
    "    print(f\"Kredisi {kredi} olan {ders_kodu} kodlu dersin kontenjanı {kontenjan} kişidir\")"
   ]
  },
  {
   "cell_type": "markdown",
   "id": "f0981239",
   "metadata": {},
   "source": [
    "#### Görev 8 : Aşağıda 2 adet set verilmiştir. Sizden istenilen eğer 1. küme 2. kümeyi kapsiyor ise ortak elemanlarını eğer kapsamıyor ise 2. kümenin 1. kümeden farkını yazdıracak fonksiyonu tanımlamanız beklenmektedir."
   ]
  },
  {
   "cell_type": "code",
   "execution_count": 44,
   "id": "3d2c0879",
   "metadata": {},
   "outputs": [],
   "source": [
    "kume1 = set([\"data\",\"python\"])\n",
    "kume2= set([\"data\",\"function\",\"qcut\",\"lambda\",\"python\",\"miuul\"])"
   ]
  },
  {
   "cell_type": "code",
   "execution_count": 45,
   "id": "23928239",
   "metadata": {},
   "outputs": [],
   "source": [
    "def setfunction(set1,set2):\n",
    "    if set1.issuperset(set2):\n",
    "        print(set1.intersection(set2))\n",
    "    else:\n",
    "        print(set2.difference(set1))"
   ]
  },
  {
   "cell_type": "code",
   "execution_count": 46,
   "id": "5562248a",
   "metadata": {},
   "outputs": [
    {
     "name": "stdout",
     "output_type": "stream",
     "text": [
      "{'function', 'qcut', 'miuul', 'lambda'}\n"
     ]
    }
   ],
   "source": [
    "setfunction(kume1,kume2)"
   ]
  },
  {
   "cell_type": "markdown",
   "id": "81337d97",
   "metadata": {},
   "source": [
    "# List Comprehension"
   ]
  },
  {
   "cell_type": "markdown",
   "id": "c36aebc4",
   "metadata": {},
   "source": [
    "#### Görev 1 :  List Comprehension yapısı kullanarak car_crashes verisindeki  numeric değişkenlerin isimlerini büyük harfe çeviriniz ve başına NUM ekleyiniz."
   ]
  },
  {
   "cell_type": "code",
   "execution_count": 47,
   "id": "35d61d64",
   "metadata": {},
   "outputs": [],
   "source": [
    "import seaborn as sns\n",
    "import pandas as pd"
   ]
  },
  {
   "cell_type": "code",
   "execution_count": 48,
   "id": "7259193c",
   "metadata": {},
   "outputs": [],
   "source": [
    "pd.set_option(\"display.max_rows\",None)\n",
    "pd.set_option(\"display.max_columns\",None)\n",
    "pd.set_option(\"display.width\",500)"
   ]
  },
  {
   "cell_type": "code",
   "execution_count": 49,
   "id": "ed5dfec7",
   "metadata": {},
   "outputs": [
    {
     "data": {
      "text/plain": [
       "Index(['total', 'speeding', 'alcohol', 'not_distracted', 'no_previous', 'ins_premium', 'ins_losses', 'abbrev'], dtype='object')"
      ]
     },
     "execution_count": 49,
     "metadata": {},
     "output_type": "execute_result"
    }
   ],
   "source": [
    "df=sns.load_dataset(\"car_crashes\")\n",
    "df.columns"
   ]
  },
  {
   "cell_type": "code",
   "execution_count": 50,
   "id": "06f98d93",
   "metadata": {},
   "outputs": [
    {
     "data": {
      "text/plain": [
       "<bound method DataFrame.info of     total  speeding  alcohol  not_distracted  no_previous  ins_premium  ins_losses abbrev\n",
       "0    18.8     7.332    5.640          18.048       15.040       784.55      145.08     AL\n",
       "1    18.1     7.421    4.525          16.290       17.014      1053.48      133.93     AK\n",
       "2    18.6     6.510    5.208          15.624       17.856       899.47      110.35     AZ\n",
       "3    22.4     4.032    5.824          21.056       21.280       827.34      142.39     AR\n",
       "4    12.0     4.200    3.360          10.920       10.680       878.41      165.63     CA\n",
       "5    13.6     5.032    3.808          10.744       12.920       835.50      139.91     CO\n",
       "6    10.8     4.968    3.888           9.396        8.856      1068.73      167.02     CT\n",
       "7    16.2     6.156    4.860          14.094       16.038      1137.87      151.48     DE\n",
       "8     5.9     2.006    1.593           5.900        5.900      1273.89      136.05     DC\n",
       "9    17.9     3.759    5.191          16.468       16.826      1160.13      144.18     FL\n",
       "10   15.6     2.964    3.900          14.820       14.508       913.15      142.80     GA\n",
       "11   17.5     9.450    7.175          14.350       15.225       861.18      120.92     HI\n",
       "12   15.3     5.508    4.437          13.005       14.994       641.96       82.75     ID\n",
       "13   12.8     4.608    4.352          12.032       12.288       803.11      139.15     IL\n",
       "14   14.5     3.625    4.205          13.775       13.775       710.46      108.92     IN\n",
       "15   15.7     2.669    3.925          15.229       13.659       649.06      114.47     IA\n",
       "16   17.8     4.806    4.272          13.706       15.130       780.45      133.80     KS\n",
       "17   21.4     4.066    4.922          16.692       16.264       872.51      137.13     KY\n",
       "18   20.5     7.175    6.765          14.965       20.090      1281.55      194.78     LA\n",
       "19   15.1     5.738    4.530          13.137       12.684       661.88       96.57     ME\n",
       "20   12.5     4.250    4.000           8.875       12.375      1048.78      192.70     MD\n",
       "21    8.2     1.886    2.870           7.134        6.560      1011.14      135.63     MA\n",
       "22   14.1     3.384    3.948          13.395       10.857      1110.61      152.26     MI\n",
       "23    9.6     2.208    2.784           8.448        8.448       777.18      133.35     MN\n",
       "24   17.6     2.640    5.456           1.760       17.600       896.07      155.77     MS\n",
       "25   16.1     6.923    5.474          14.812       13.524       790.32      144.45     MO\n",
       "26   21.4     8.346    9.416          17.976       18.190       816.21       85.15     MT\n",
       "27   14.9     1.937    5.215          13.857       13.410       732.28      114.82     NE\n",
       "28   14.7     5.439    4.704          13.965       14.553      1029.87      138.71     NV\n",
       "29   11.6     4.060    3.480          10.092        9.628       746.54      120.21     NH\n",
       "30   11.2     1.792    3.136           9.632        8.736      1301.52      159.85     NJ\n",
       "31   18.4     3.496    4.968          12.328       18.032       869.85      120.75     NM\n",
       "32   12.3     3.936    3.567          10.824        9.840      1234.31      150.01     NY\n",
       "33   16.8     6.552    5.208          15.792       13.608       708.24      127.82     NC\n",
       "34   23.9     5.497   10.038          23.661       20.554       688.75      109.72     ND\n",
       "35   14.1     3.948    4.794          13.959       11.562       697.73      133.52     OH\n",
       "36   19.9     6.368    5.771          18.308       18.706       881.51      178.86     OK\n",
       "37   12.8     4.224    3.328           8.576       11.520       804.71      104.61     OR\n",
       "38   18.2     9.100    5.642          17.472       16.016       905.99      153.86     PA\n",
       "39   11.1     3.774    4.218          10.212        8.769      1148.99      148.58     RI\n",
       "40   23.9     9.082    9.799          22.944       19.359       858.97      116.29     SC\n",
       "41   19.4     6.014    6.402          19.012       16.684       669.31       96.87     SD\n",
       "42   19.5     4.095    5.655          15.990       15.795       767.91      155.57     TN\n",
       "43   19.4     7.760    7.372          17.654       16.878      1004.75      156.83     TX\n",
       "44   11.3     4.859    1.808           9.944       10.848       809.38      109.48     UT\n",
       "45   13.6     4.080    4.080          13.056       12.920       716.20      109.61     VT\n",
       "46   12.7     2.413    3.429          11.049       11.176       768.95      153.72     VA\n",
       "47   10.6     4.452    3.498           8.692        9.116       890.03      111.62     WA\n",
       "48   23.8     8.092    6.664          23.086       20.706       992.61      152.56     WV\n",
       "49   13.8     4.968    4.554           5.382       11.592       670.31      106.62     WI\n",
       "50   17.4     7.308    5.568          14.094       15.660       791.14      122.04     WY>"
      ]
     },
     "execution_count": 50,
     "metadata": {},
     "output_type": "execute_result"
    }
   ],
   "source": [
    "df.info"
   ]
  },
  {
   "cell_type": "code",
   "execution_count": 51,
   "id": "562b3cc5",
   "metadata": {},
   "outputs": [
    {
     "data": {
      "text/plain": [
       "['NUM_TOTAL',\n",
       " 'NUM_SPEEDING',\n",
       " 'NUM_ALCOHOL',\n",
       " 'NUM_NOT_DISTRACTED',\n",
       " 'NUM_NO_PREVIOUS',\n",
       " 'NUM_INS_PREMIUM',\n",
       " 'NUM_INS_LOSSES',\n",
       " 'ABBREV']"
      ]
     },
     "execution_count": 51,
     "metadata": {},
     "output_type": "execute_result"
    }
   ],
   "source": [
    "[\"NUM_\" + col.upper() if df[col].dtype != \"O\" else col.upper() for col in df.columns]"
   ]
  },
  {
   "cell_type": "markdown",
   "id": "507506aa",
   "metadata": {},
   "source": [
    "#### Görev 2 :  List Comprehension yapısı kullanarak car_crashes verisinde isminde \"no\" barındırmayan değişkenlerin isimlerinin sonuna \"FLAG\" yazınız."
   ]
  },
  {
   "cell_type": "code",
   "execution_count": 52,
   "id": "21735d64",
   "metadata": {},
   "outputs": [
    {
     "data": {
      "text/plain": [
       "['TOTALFLAG',\n",
       " 'SPEEDINGFLAG',\n",
       " 'ALCOHOLFLAG',\n",
       " 'NOT_DISTRACTED',\n",
       " 'NO_PREVIOUS',\n",
       " 'INS_PREMIUMFLAG',\n",
       " 'INS_LOSSESFLAG',\n",
       " 'ABBREVFLAG']"
      ]
     },
     "execution_count": 52,
     "metadata": {},
     "output_type": "execute_result"
    }
   ],
   "source": [
    "[col.upper() + \"FLAG\" if \"no\" not in col else col.upper() for col in df.columns]"
   ]
  },
  {
   "cell_type": "markdown",
   "id": "e61ebe98",
   "metadata": {},
   "source": [
    "#### Görev 3 :  List Comprehension yapısı kullanarak aşağıda verilen değişken isimlerinden FARKLI olan değişkenlerin isimlerini seçiniz ve yeni bir dataframe oluşturunuz."
   ]
  },
  {
   "cell_type": "code",
   "execution_count": 53,
   "id": "b58971ee",
   "metadata": {},
   "outputs": [],
   "source": [
    "og_list = [\"abbrev\",\"no_previous\"]"
   ]
  },
  {
   "cell_type": "code",
   "execution_count": 54,
   "id": "47ee42de",
   "metadata": {},
   "outputs": [],
   "source": [
    "new_cols = [col for col in df.columns if col not in og_list]"
   ]
  },
  {
   "cell_type": "code",
   "execution_count": 55,
   "id": "eb2f1c03",
   "metadata": {},
   "outputs": [],
   "source": [
    "new_df = df[new_cols]"
   ]
  },
  {
   "cell_type": "code",
   "execution_count": 56,
   "id": "aefe32b0",
   "metadata": {},
   "outputs": [
    {
     "data": {
      "text/html": [
       "<div>\n",
       "<style scoped>\n",
       "    .dataframe tbody tr th:only-of-type {\n",
       "        vertical-align: middle;\n",
       "    }\n",
       "\n",
       "    .dataframe tbody tr th {\n",
       "        vertical-align: top;\n",
       "    }\n",
       "\n",
       "    .dataframe thead th {\n",
       "        text-align: right;\n",
       "    }\n",
       "</style>\n",
       "<table border=\"1\" class=\"dataframe\">\n",
       "  <thead>\n",
       "    <tr style=\"text-align: right;\">\n",
       "      <th></th>\n",
       "      <th>total</th>\n",
       "      <th>speeding</th>\n",
       "      <th>alcohol</th>\n",
       "      <th>not_distracted</th>\n",
       "      <th>ins_premium</th>\n",
       "      <th>ins_losses</th>\n",
       "    </tr>\n",
       "  </thead>\n",
       "  <tbody>\n",
       "    <tr>\n",
       "      <th>0</th>\n",
       "      <td>18.8</td>\n",
       "      <td>7.332</td>\n",
       "      <td>5.640</td>\n",
       "      <td>18.048</td>\n",
       "      <td>784.55</td>\n",
       "      <td>145.08</td>\n",
       "    </tr>\n",
       "    <tr>\n",
       "      <th>1</th>\n",
       "      <td>18.1</td>\n",
       "      <td>7.421</td>\n",
       "      <td>4.525</td>\n",
       "      <td>16.290</td>\n",
       "      <td>1053.48</td>\n",
       "      <td>133.93</td>\n",
       "    </tr>\n",
       "    <tr>\n",
       "      <th>2</th>\n",
       "      <td>18.6</td>\n",
       "      <td>6.510</td>\n",
       "      <td>5.208</td>\n",
       "      <td>15.624</td>\n",
       "      <td>899.47</td>\n",
       "      <td>110.35</td>\n",
       "    </tr>\n",
       "    <tr>\n",
       "      <th>3</th>\n",
       "      <td>22.4</td>\n",
       "      <td>4.032</td>\n",
       "      <td>5.824</td>\n",
       "      <td>21.056</td>\n",
       "      <td>827.34</td>\n",
       "      <td>142.39</td>\n",
       "    </tr>\n",
       "    <tr>\n",
       "      <th>4</th>\n",
       "      <td>12.0</td>\n",
       "      <td>4.200</td>\n",
       "      <td>3.360</td>\n",
       "      <td>10.920</td>\n",
       "      <td>878.41</td>\n",
       "      <td>165.63</td>\n",
       "    </tr>\n",
       "  </tbody>\n",
       "</table>\n",
       "</div>"
      ],
      "text/plain": [
       "   total  speeding  alcohol  not_distracted  ins_premium  ins_losses\n",
       "0   18.8     7.332    5.640          18.048       784.55      145.08\n",
       "1   18.1     7.421    4.525          16.290      1053.48      133.93\n",
       "2   18.6     6.510    5.208          15.624       899.47      110.35\n",
       "3   22.4     4.032    5.824          21.056       827.34      142.39\n",
       "4   12.0     4.200    3.360          10.920       878.41      165.63"
      ]
     },
     "execution_count": 56,
     "metadata": {},
     "output_type": "execute_result"
    }
   ],
   "source": [
    "new_df.head()"
   ]
  },
  {
   "cell_type": "code",
   "execution_count": null,
   "id": "2bc48345",
   "metadata": {},
   "outputs": [],
   "source": []
  }
 ],
 "metadata": {
  "kernelspec": {
   "display_name": "Python 3 (ipykernel)",
   "language": "python",
   "name": "python3"
  },
  "language_info": {
   "codemirror_mode": {
    "name": "ipython",
    "version": 3
   },
   "file_extension": ".py",
   "mimetype": "text/x-python",
   "name": "python",
   "nbconvert_exporter": "python",
   "pygments_lexer": "ipython3",
   "version": "3.11.3"
  }
 },
 "nbformat": 4,
 "nbformat_minor": 5
}
