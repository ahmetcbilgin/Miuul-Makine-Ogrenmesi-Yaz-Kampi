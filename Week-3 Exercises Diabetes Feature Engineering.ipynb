{
 "cells": [
  {
   "cell_type": "markdown",
   "id": "923cf0ab-234e-493d-8c1f-659997b7d1b3",
   "metadata": {},
   "source": [
    "### Görev 1 : Keşifçi Veri Analizi"
   ]
  },
  {
   "cell_type": "code",
   "execution_count": 2,
   "id": "ca7399b5-2e65-4317-a308-980589d3e22c",
   "metadata": {},
   "outputs": [],
   "source": [
    "import pandas as pd\n",
    "import numpy as np\n",
    "import matplotlib.pyplot as plt\n",
    "import seaborn as sns"
   ]
  },
  {
   "cell_type": "code",
   "execution_count": 26,
   "id": "4be8ab24-a7f7-4a51-aa89-cb075c0e8809",
   "metadata": {},
   "outputs": [],
   "source": [
    "import missingno as msno\n",
    "from datetime import date\n",
    "from sklearn.metrics import accuracy_score\n",
    "from sklearn.model_selection import train_test_split\n",
    "from sklearn.neighbors import LocalOutlierFactor\n",
    "from sklearn.preprocessing import MinMaxScaler, LabelEncoder, StandardScaler, RobustScaler"
   ]
  },
  {
   "cell_type": "code",
   "execution_count": 101,
   "id": "9d209d0b-50ad-4233-aa99-bf8820602998",
   "metadata": {},
   "outputs": [],
   "source": [
    "from sklearn.ensemble import RandomForestClassifier\n",
    "from sklearn.metrics import accuracy_score, confusion_matrix, precision_score, recall_score, ConfusionMatrixDisplay, f1_score, roc_auc_score\n",
    "from sklearn.model_selection import RandomizedSearchCV, train_test_split\n",
    "from scipy.stats import randint"
   ]
  },
  {
   "cell_type": "code",
   "execution_count": 27,
   "id": "13e433f3-0d80-4f4b-ab8c-bc7e157716c8",
   "metadata": {},
   "outputs": [],
   "source": [
    "pd.set_option(\"display.max_columns\",None)\n",
    "pd.set_option(\"display.max_rows\",None)\n",
    "pd.set_option(\"display.float_format\",lambda x : \"%.3f\" % x)\n",
    "pd.set_option(\"display.width\",500)"
   ]
  },
  {
   "cell_type": "code",
   "execution_count": 4,
   "id": "5ec1da24-8636-4c5a-ac0f-06afc05f8237",
   "metadata": {},
   "outputs": [],
   "source": [
    "df = pd.read_csv(\"diabetes.csv\")"
   ]
  },
  {
   "cell_type": "markdown",
   "id": "bc8619f7-86d7-45b9-9fdc-b64bf55b8334",
   "metadata": {},
   "source": [
    "Adım 1: Genel resmi inceleyiniz."
   ]
  },
  {
   "cell_type": "code",
   "execution_count": 29,
   "id": "0c903f46-8586-40a1-a97e-ff6be785a0d9",
   "metadata": {},
   "outputs": [],
   "source": [
    "def check_df(df,head=5):\n",
    "    print(\"######################## SHAPE ##########################\")\n",
    "    print(df.shape)\n",
    "    print(\"######################## TYPES ##########################\")\n",
    "    print(df.dtypes)\n",
    "    print(\"######################## HEAD ##########################\")\n",
    "    print(df.head(head))\n",
    "    print(\"######################## TAIL ##########################\")\n",
    "    print(df.tail(head))\n",
    "    print(\"######################## NA ##########################\")\n",
    "    print(df.isnull().sum())\n",
    "\n"
   ]
  },
  {
   "cell_type": "code",
   "execution_count": 30,
   "id": "f328bd41-ea66-4e31-99a6-199a9eb488ef",
   "metadata": {},
   "outputs": [
    {
     "name": "stdout",
     "output_type": "stream",
     "text": [
      "######################## SHAPE ##########################\n",
      "(768, 9)\n",
      "######################## TYPES ##########################\n",
      "Pregnancies                   int64\n",
      "Glucose                       int64\n",
      "BloodPressure                 int64\n",
      "SkinThickness                 int64\n",
      "Insulin                       int64\n",
      "BMI                         float64\n",
      "DiabetesPedigreeFunction    float64\n",
      "Age                           int64\n",
      "Outcome                       int64\n",
      "dtype: object\n",
      "######################## HEAD ##########################\n",
      "   Pregnancies  Glucose  BloodPressure  SkinThickness  Insulin    BMI  DiabetesPedigreeFunction  Age  Outcome\n",
      "0            6      148             72             35        0 33.600                     0.627   50        1\n",
      "1            1       85             66             29        0 26.600                     0.351   31        0\n",
      "2            8      183             64              0        0 23.300                     0.672   32        1\n",
      "3            1       89             66             23       94 28.100                     0.167   21        0\n",
      "4            0      137             40             35      168 43.100                     2.288   33        1\n",
      "######################## TAIL ##########################\n",
      "     Pregnancies  Glucose  BloodPressure  SkinThickness  Insulin    BMI  DiabetesPedigreeFunction  Age  Outcome\n",
      "763           10      101             76             48      180 32.900                     0.171   63        0\n",
      "764            2      122             70             27        0 36.800                     0.340   27        0\n",
      "765            5      121             72             23      112 26.200                     0.245   30        0\n",
      "766            1      126             60              0        0 30.100                     0.349   47        1\n",
      "767            1       93             70             31        0 30.400                     0.315   23        0\n",
      "######################## NA ##########################\n",
      "Pregnancies                 0\n",
      "Glucose                     0\n",
      "BloodPressure               0\n",
      "SkinThickness               0\n",
      "Insulin                     0\n",
      "BMI                         0\n",
      "DiabetesPedigreeFunction    0\n",
      "Age                         0\n",
      "Outcome                     0\n",
      "dtype: int64\n"
     ]
    }
   ],
   "source": [
    "check_df(df)"
   ]
  },
  {
   "cell_type": "markdown",
   "id": "5f3c07fe-f3b7-431f-907a-f4a9362d2715",
   "metadata": {},
   "source": [
    "Adım 2: Numerikvekategorikdeğişkenleriyakalayınız."
   ]
  },
  {
   "cell_type": "code",
   "execution_count": 8,
   "id": "2d46c2d0-c56b-4327-a765-4a5a945c7b68",
   "metadata": {},
   "outputs": [],
   "source": [
    "def grab_col_names(df,cat_th=10,car_th=20):\n",
    "    cat_cols = [col for col in df.columns if df[col].dtypes  == \"O\"]\n",
    "    num_but_cat = [col for col in df.columns if df[col].dtypes != \"O\" and df[col].nunique() < cat_th]\n",
    "    cat_but_car = [col for col in df.columns if df[col].dtypes == \"O\" and df[col].nunique() > car_th ]\n",
    "    cat_cols = cat_cols + num_but_cat\n",
    "    cat_cols = [col for col in cat_cols if col not in cat_but_car]\n",
    "\n",
    "    num_cols = [col for col in df.columns if df[col].dtypes != \"O\"]\n",
    "    num_cols = [col for col in num_cols if col not in num_but_cat]\n",
    "\n",
    "    print(f\"Observations: {df.shape[0]}\")\n",
    "    print(f\"Variables: {df.shape[1]}\")\n",
    "    print(f\"cat_cols: {len(cat_cols)}\")\n",
    "    print(f\"num_cols: {len(num_cols)}\")\n",
    "    print(f\"cat_but_car: {len(cat_but_car)}\")\n",
    "    print(f\"num_but_car: {len(num_but_cat)}\")\n",
    "    return cat_cols,num_cols,cat_but_car"
   ]
  },
  {
   "cell_type": "code",
   "execution_count": 9,
   "id": "fc6d9675-7abd-4696-a347-174f9c23a17b",
   "metadata": {},
   "outputs": [
    {
     "name": "stdout",
     "output_type": "stream",
     "text": [
      "Observations: 768\n",
      "Variables: 9\n",
      "cat_cols: 1\n",
      "num_cols: 8\n",
      "cat_but_car: 0\n",
      "num_but_car: 1\n"
     ]
    }
   ],
   "source": [
    "cat_cols,num_cols,cat_but_car = grab_col_names(df)"
   ]
  },
  {
   "cell_type": "code",
   "execution_count": 10,
   "id": "37b4bab4-2970-4b43-99ab-7eefb627a8f9",
   "metadata": {},
   "outputs": [
    {
     "data": {
      "text/plain": [
       "['Outcome']"
      ]
     },
     "execution_count": 10,
     "metadata": {},
     "output_type": "execute_result"
    }
   ],
   "source": [
    "cat_cols"
   ]
  },
  {
   "cell_type": "code",
   "execution_count": 11,
   "id": "1271a61f-cb60-4a94-a04d-323441c515de",
   "metadata": {},
   "outputs": [
    {
     "data": {
      "text/plain": [
       "['Pregnancies',\n",
       " 'Glucose',\n",
       " 'BloodPressure',\n",
       " 'SkinThickness',\n",
       " 'Insulin',\n",
       " 'BMI',\n",
       " 'DiabetesPedigreeFunction',\n",
       " 'Age']"
      ]
     },
     "execution_count": 11,
     "metadata": {},
     "output_type": "execute_result"
    }
   ],
   "source": [
    "num_cols"
   ]
  },
  {
   "cell_type": "markdown",
   "id": "64c630e3-38db-46e3-ad9f-da01faafecca",
   "metadata": {},
   "source": [
    "Adım 3:  Numerik ve kategorik değişkenlerin analizini yapınız."
   ]
  },
  {
   "cell_type": "code",
   "execution_count": 31,
   "id": "11f9db65-d5a4-45d4-998b-6487d4c7e0be",
   "metadata": {},
   "outputs": [],
   "source": [
    "def cat_summary(df, col_name,plot=False):\n",
    "    print(pd.DataFrame({col_name : df[col_name].value_counts(),\n",
    "                       \"Ratio\":100*df[col_name].value_counts()/ len(df) }))\n",
    "    print(\"*********************************\")\n",
    "    if plot:\n",
    "        sns.countplot(x=df[col_name], data=df)\n",
    "        plt.show()"
   ]
  },
  {
   "cell_type": "code",
   "execution_count": 32,
   "id": "5acdcd1d-0bad-4494-a6bb-542f493818b1",
   "metadata": {},
   "outputs": [
    {
     "name": "stdout",
     "output_type": "stream",
     "text": [
      "   Outcome  Ratio\n",
      "0      500 65.104\n",
      "1      268 34.896\n",
      "*********************************\n"
     ]
    }
   ],
   "source": [
    "cat_summary(df,\"Outcome\")"
   ]
  },
  {
   "cell_type": "code",
   "execution_count": 33,
   "id": "2c140b58-7a44-4375-829b-707f1994a127",
   "metadata": {},
   "outputs": [],
   "source": [
    "def num_summary(df,num_cols,plot=False):\n",
    "    print(df[num_cols].describe().T)\n",
    "    if plot:\n",
    "        df[num_cols].hist()\n",
    "        plt.xlabel(num_cols)\n",
    "        plt.title(num_cols)\n",
    "        plt.show()"
   ]
  },
  {
   "cell_type": "code",
   "execution_count": 35,
   "id": "4fe1ef8a-a72f-41e2-b554-ac7b24d92490",
   "metadata": {},
   "outputs": [
    {
     "name": "stdout",
     "output_type": "stream",
     "text": [
      "count   768.000\n",
      "mean      3.845\n",
      "std       3.370\n",
      "min       0.000\n",
      "25%       1.000\n",
      "50%       3.000\n",
      "75%       6.000\n",
      "max      17.000\n",
      "Name: Pregnancies, dtype: float64\n"
     ]
    },
    {
     "data": {
      "image/png": "[encoded data removed]",
      "text/plain": [
       "<Figure size 640x480 with 1 Axes>"
      ]
     },
     "metadata": {},
     "output_type": "display_data"
    },
    {
     "name": "stdout",
     "output_type": "stream",
     "text": [
      "None\n",
      "count   768.000\n",
      "mean    120.895\n",
      "std      31.973\n",
      "min       0.000\n",
      "25%      99.000\n",
      "50%     117.000\n",
      "75%     140.250\n",
      "max     199.000\n",
      "Name: Glucose, dtype: float64\n"
     ]
    },
    {
     "data": {
      "image/png": "[encoded data removed]",
      "text/plain": [
       "<Figure size 640x480 with 1 Axes>"
      ]
     },
     "metadata": {},
     "output_type": "display_data"
    },
    {
     "name": "stdout",
     "output_type": "stream",
     "text": [
      "None\n",
      "count   768.000\n",
      "mean     69.105\n",
      "std      19.356\n",
      "min       0.000\n",
      "25%      62.000\n",
      "50%      72.000\n",
      "75%      80.000\n",
      "max     122.000\n",
      "Name: BloodPressure, dtype: float64\n"
     ]
    },
    {
     "data": {
      "image/png": "[encoded data removed]",
      "text/plain": [
       "<Figure size 640x480 with 1 Axes>"
      ]
     },
     "metadata": {},
     "output_type": "display_data"
    },
    {
     "name": "stdout",
     "output_type": "stream",
     "text": [
      "None\n",
      "count   768.000\n",
      "mean     20.536\n",
      "std      15.952\n",
      "min       0.000\n",
      "25%       0.000\n",
      "50%      23.000\n",
      "75%      32.000\n",
      "max      99.000\n",
      "Name: SkinThickness, dtype: float64\n"
     ]
    },
    {
     "data": {
      "image/png": "[encoded data removed]",
      "text/plain": [
       "<Figure size 640x480 with 1 Axes>"
      ]
     },
     "metadata": {},
     "output_type": "display_data"
    },
    {
     "name": "stdout",
     "output_type": "stream",
     "text": [
      "None\n",
      "count   768.000\n",
      "mean     79.799\n",
      "std     115.244\n",
      "min       0.000\n",
      "25%       0.000\n",
      "50%      30.500\n",
      "75%     127.250\n",
      "max     846.000\n",
      "Name: Insulin, dtype: float64\n"
     ]
    },
    {
     "data": {
      "image/png": "[encoded data removed]",
      "text/plain": [
       "<Figure size 640x480 with 1 Axes>"
      ]
     },
     "metadata": {},
     "output_type": "display_data"
    },
    {
     "name": "stdout",
     "output_type": "stream",
     "text": [
      "None\n",
      "count   768.000\n",
      "mean     31.993\n",
      "std       7.884\n",
      "min       0.000\n",
      "25%      27.300\n",
      "50%      32.000\n",
      "75%      36.600\n",
      "max      67.100\n",
      "Name: BMI, dtype: float64\n"
     ]
    },
    {
     "data": {
      "image/png": "[encoded data removed]",
      "text/plain": [
       "<Figure size 640x480 with 1 Axes>"
      ]
     },
     "metadata": {},
     "output_type": "display_data"
    },
    {
     "name": "stdout",
     "output_type": "stream",
     "text": [
      "None\n",
      "count   768.000\n",
      "mean      0.472\n",
      "std       0.331\n",
      "min       0.078\n",
      "25%       0.244\n",
      "50%       0.372\n",
      "75%       0.626\n",
      "max       2.420\n",
      "Name: DiabetesPedigreeFunction, dtype: float64\n"
     ]
    },
    {
     "data": {
      "image/png": "[encoded data removed]",
      "text/plain": [
       "<Figure size 640x480 with 1 Axes>"
      ]
     },
     "metadata": {},
     "output_type": "display_data"
    },
    {
     "name": "stdout",
     "output_type": "stream",
     "text": [
      "None\n",
      "count   768.000\n",
      "mean     33.241\n",
      "std      11.760\n",
      "min      21.000\n",
      "25%      24.000\n",
      "50%      29.000\n",
      "75%      41.000\n",
      "max      81.000\n",
      "Name: Age, dtype: float64\n"
     ]
    },
    {
     "data": {
      "image/png": "[encoded data removed]",
      "text/plain": [
       "<Figure size 640x480 with 1 Axes>"
      ]
     },
     "metadata": {},
     "output_type": "display_data"
    },
    {
     "name": "stdout",
     "output_type": "stream",
     "text": [
      "None\n"
     ]
    }
   ],
   "source": [
    "for col in num_cols:\n",
    "    print(num_summary(df,col,True))"
   ]
  },
  {
   "cell_type": "markdown",
   "id": "2836e0c0-e4f7-42cd-9603-a0c303b1f88a",
   "metadata": {},
   "source": [
    "Adım 4:Hedef değişken analizi yapınız. (Kategorik değişkenlere göre hedef değişkenin ortalaması, hedef değişkene göre numerik değişkenlerin ortalaması)"
   ]
  },
  {
   "cell_type": "code",
   "execution_count": 19,
   "id": "0a1bc3ac-d02c-4468-8dc0-96d6de3c8523",
   "metadata": {},
   "outputs": [
    {
     "name": "stdout",
     "output_type": "stream",
     "text": [
      "         Outcome\n",
      "Outcome         \n",
      "0            0.0\n",
      "1            1.0\n"
     ]
    }
   ],
   "source": [
    "for col in cat_cols:\n",
    "    print(df.groupby(\"Outcome\").agg({col: \"mean\"}))"
   ]
  },
  {
   "cell_type": "code",
   "execution_count": 18,
   "id": "b7e1212d-4c55-4d0e-ba51-45f0e55cac9d",
   "metadata": {},
   "outputs": [
    {
     "name": "stdout",
     "output_type": "stream",
     "text": [
      "         Pregnancies\n",
      "Outcome             \n",
      "0           3.298000\n",
      "1           4.865672\n",
      "\n",
      "\n",
      "            Glucose\n",
      "Outcome            \n",
      "0        109.980000\n",
      "1        141.257463\n",
      "\n",
      "\n",
      "         BloodPressure\n",
      "Outcome               \n",
      "0            68.184000\n",
      "1            70.824627\n",
      "\n",
      "\n",
      "         SkinThickness\n",
      "Outcome               \n",
      "0            19.664000\n",
      "1            22.164179\n",
      "\n",
      "\n",
      "            Insulin\n",
      "Outcome            \n",
      "0         68.792000\n",
      "1        100.335821\n",
      "\n",
      "\n",
      "               BMI\n",
      "Outcome           \n",
      "0        30.304200\n",
      "1        35.142537\n",
      "\n",
      "\n",
      "         DiabetesPedigreeFunction\n",
      "Outcome                          \n",
      "0                        0.429734\n",
      "1                        0.550500\n",
      "\n",
      "\n",
      "               Age\n",
      "Outcome           \n",
      "0        31.190000\n",
      "1        37.067164\n",
      "\n",
      "\n"
     ]
    }
   ],
   "source": [
    "for col in num_cols:\n",
    "    print(df.groupby(\"Outcome\").agg({col : \"mean\"}))\n",
    "    print(\"\\n\")"
   ]
  },
  {
   "cell_type": "markdown",
   "id": "e1e4dddb-fe85-4aa0-9a4a-03575213d8d7",
   "metadata": {},
   "source": [
    "Adım 5: Aykırı gözlem analizi yapınız."
   ]
  },
  {
   "cell_type": "code",
   "execution_count": 20,
   "id": "7ad63f9d-0adb-4732-8429-a4d9478f4cf3",
   "metadata": {},
   "outputs": [],
   "source": [
    "def outlier_thresholds(df,col,q1=0.25,q3=0.75):\n",
    "    quartile1 = df[col].quantile(q1)\n",
    "    quartile3 = df[col].quantile(q3)\n",
    "    interquantiler_range = quartile3 - quartile1\n",
    "    up_limit = quartile3 + 1.5 * interquantiler_range\n",
    "    low_limit = quartile1 - 1.5 * interquantiler_range\n",
    "    return low_limit,up_limit"
   ]
  },
  {
   "cell_type": "code",
   "execution_count": 21,
   "id": "9250ddc2-eb40-4b3e-bace-c89e50a3f951",
   "metadata": {},
   "outputs": [],
   "source": [
    "def check_outlier(df,col):\n",
    "    low_limit,up_limit = outlier_thresholds(df,col)\n",
    "    if df[(df[col]>up_limit) | (df[col]< low_limit)].any(axis=None):\n",
    "        return True\n",
    "    else:\n",
    "        return False"
   ]
  },
  {
   "cell_type": "code",
   "execution_count": 46,
   "id": "a285aeae-f7c8-4275-98d9-46a8392b3773",
   "metadata": {},
   "outputs": [],
   "source": [
    "def replace_with_thresholds(df,col):\n",
    "    low_limit,up_limit = outlier_thresholds(df,col)\n",
    "    df.loc[(df[col] < low_limit),col] = low_limit\n",
    "    df.loc[(df[col] > up_limit),col] = up_limit\n"
   ]
  },
  {
   "cell_type": "code",
   "execution_count": 48,
   "id": "9a516ea9-f817-46fc-a1bb-8064d22025c2",
   "metadata": {},
   "outputs": [
    {
     "name": "stdout",
     "output_type": "stream",
     "text": [
      "Pregnancies True\n",
      "Glucose False\n",
      "BloodPressure True\n",
      "SkinThickness True\n",
      "Insulin True\n",
      "BMI True\n",
      "DiabetesPedigreeFunction True\n",
      "Age True\n"
     ]
    }
   ],
   "source": [
    "for col in num_cols:\n",
    "    print(col,check_outlier(df,col))\n",
    "    if check_outlier(df,col):\n",
    "        replace_with_thresholds(df,col)"
   ]
  },
  {
   "cell_type": "code",
   "execution_count": 49,
   "id": "0ddcc53a-622f-49c0-a947-5b61dbec9360",
   "metadata": {},
   "outputs": [
    {
     "name": "stdout",
     "output_type": "stream",
     "text": [
      "Pregnancies False\n",
      "Glucose False\n",
      "BloodPressure False\n",
      "SkinThickness False\n",
      "Insulin False\n",
      "BMI False\n",
      "DiabetesPedigreeFunction False\n",
      "Age False\n"
     ]
    }
   ],
   "source": [
    "for col in num_cols:\n",
    "    print(col,check_outlier(df,col))"
   ]
  },
  {
   "cell_type": "markdown",
   "id": "a94a69ea-a8b3-4a29-91d8-4afc14670526",
   "metadata": {},
   "source": [
    "Adım 6: Eksik gözlem analizi yapınız."
   ]
  },
  {
   "cell_type": "code",
   "execution_count": 23,
   "id": "2f3bbcae-9cc4-4038-bccd-8917fbe98589",
   "metadata": {},
   "outputs": [
    {
     "data": {
      "text/plain": [
       "Pregnancies                 0\n",
       "Glucose                     0\n",
       "BloodPressure               0\n",
       "SkinThickness               0\n",
       "Insulin                     0\n",
       "BMI                         0\n",
       "DiabetesPedigreeFunction    0\n",
       "Age                         0\n",
       "Outcome                     0\n",
       "dtype: int64"
      ]
     },
     "execution_count": 23,
     "metadata": {},
     "output_type": "execute_result"
    }
   ],
   "source": [
    "df.isnull().sum()"
   ]
  },
  {
   "cell_type": "code",
   "execution_count": 24,
   "id": "13239360-495a-4677-9a4d-9f6a1e630873",
   "metadata": {},
   "outputs": [
    {
     "data": {
      "text/plain": [
       "Pregnancies                 768\n",
       "Glucose                     768\n",
       "BloodPressure               768\n",
       "SkinThickness               768\n",
       "Insulin                     768\n",
       "BMI                         768\n",
       "DiabetesPedigreeFunction    768\n",
       "Age                         768\n",
       "Outcome                     768\n",
       "dtype: int64"
      ]
     },
     "execution_count": 24,
     "metadata": {},
     "output_type": "execute_result"
    }
   ],
   "source": [
    "df.notnull().sum()"
   ]
  },
  {
   "cell_type": "markdown",
   "id": "fcf484a0-d60c-41d5-8617-49891c0e67ed",
   "metadata": {},
   "source": [
    "Adım 7: Korelasyon analizi yapınız."
   ]
  },
  {
   "cell_type": "code",
   "execution_count": 25,
   "id": "f3bce6e0-17db-4d96-ac7d-0292a1e14bb0",
   "metadata": {},
   "outputs": [
    {
     "data": {
      "text/html": [
       "<div>\n",
       "<style scoped>\n",
       "    .dataframe tbody tr th:only-of-type {\n",
       "        vertical-align: middle;\n",
       "    }\n",
       "\n",
       "    .dataframe tbody tr th {\n",
       "        vertical-align: top;\n",
       "    }\n",
       "\n",
       "    .dataframe thead th {\n",
       "        text-align: right;\n",
       "    }\n",
       "</style>\n",
       "<table border=\"1\" class=\"dataframe\">\n",
       "  <thead>\n",
       "    <tr style=\"text-align: right;\">\n",
       "      <th></th>\n",
       "      <th>Pregnancies</th>\n",
       "      <th>Glucose</th>\n",
       "      <th>BloodPressure</th>\n",
       "      <th>SkinThickness</th>\n",
       "      <th>Insulin</th>\n",
       "      <th>BMI</th>\n",
       "      <th>DiabetesPedigreeFunction</th>\n",
       "      <th>Age</th>\n",
       "      <th>Outcome</th>\n",
       "    </tr>\n",
       "  </thead>\n",
       "  <tbody>\n",
       "    <tr>\n",
       "      <th>Pregnancies</th>\n",
       "      <td>1.000000</td>\n",
       "      <td>0.129459</td>\n",
       "      <td>0.141282</td>\n",
       "      <td>-0.081672</td>\n",
       "      <td>-0.073535</td>\n",
       "      <td>0.017683</td>\n",
       "      <td>-0.033523</td>\n",
       "      <td>0.544341</td>\n",
       "      <td>0.221898</td>\n",
       "    </tr>\n",
       "    <tr>\n",
       "      <th>Glucose</th>\n",
       "      <td>0.129459</td>\n",
       "      <td>1.000000</td>\n",
       "      <td>0.152590</td>\n",
       "      <td>0.057328</td>\n",
       "      <td>0.331357</td>\n",
       "      <td>0.221071</td>\n",
       "      <td>0.137337</td>\n",
       "      <td>0.263514</td>\n",
       "      <td>0.466581</td>\n",
       "    </tr>\n",
       "    <tr>\n",
       "      <th>BloodPressure</th>\n",
       "      <td>0.141282</td>\n",
       "      <td>0.152590</td>\n",
       "      <td>1.000000</td>\n",
       "      <td>0.207371</td>\n",
       "      <td>0.088933</td>\n",
       "      <td>0.281805</td>\n",
       "      <td>0.041265</td>\n",
       "      <td>0.239528</td>\n",
       "      <td>0.065068</td>\n",
       "    </tr>\n",
       "    <tr>\n",
       "      <th>SkinThickness</th>\n",
       "      <td>-0.081672</td>\n",
       "      <td>0.057328</td>\n",
       "      <td>0.207371</td>\n",
       "      <td>1.000000</td>\n",
       "      <td>0.436783</td>\n",
       "      <td>0.392573</td>\n",
       "      <td>0.183928</td>\n",
       "      <td>-0.113970</td>\n",
       "      <td>0.074752</td>\n",
       "    </tr>\n",
       "    <tr>\n",
       "      <th>Insulin</th>\n",
       "      <td>-0.073535</td>\n",
       "      <td>0.331357</td>\n",
       "      <td>0.088933</td>\n",
       "      <td>0.436783</td>\n",
       "      <td>1.000000</td>\n",
       "      <td>0.197859</td>\n",
       "      <td>0.185071</td>\n",
       "      <td>-0.042163</td>\n",
       "      <td>0.130548</td>\n",
       "    </tr>\n",
       "    <tr>\n",
       "      <th>BMI</th>\n",
       "      <td>0.017683</td>\n",
       "      <td>0.221071</td>\n",
       "      <td>0.281805</td>\n",
       "      <td>0.392573</td>\n",
       "      <td>0.197859</td>\n",
       "      <td>1.000000</td>\n",
       "      <td>0.140647</td>\n",
       "      <td>0.036242</td>\n",
       "      <td>0.292695</td>\n",
       "    </tr>\n",
       "    <tr>\n",
       "      <th>DiabetesPedigreeFunction</th>\n",
       "      <td>-0.033523</td>\n",
       "      <td>0.137337</td>\n",
       "      <td>0.041265</td>\n",
       "      <td>0.183928</td>\n",
       "      <td>0.185071</td>\n",
       "      <td>0.140647</td>\n",
       "      <td>1.000000</td>\n",
       "      <td>0.033561</td>\n",
       "      <td>0.173844</td>\n",
       "    </tr>\n",
       "    <tr>\n",
       "      <th>Age</th>\n",
       "      <td>0.544341</td>\n",
       "      <td>0.263514</td>\n",
       "      <td>0.239528</td>\n",
       "      <td>-0.113970</td>\n",
       "      <td>-0.042163</td>\n",
       "      <td>0.036242</td>\n",
       "      <td>0.033561</td>\n",
       "      <td>1.000000</td>\n",
       "      <td>0.238356</td>\n",
       "    </tr>\n",
       "    <tr>\n",
       "      <th>Outcome</th>\n",
       "      <td>0.221898</td>\n",
       "      <td>0.466581</td>\n",
       "      <td>0.065068</td>\n",
       "      <td>0.074752</td>\n",
       "      <td>0.130548</td>\n",
       "      <td>0.292695</td>\n",
       "      <td>0.173844</td>\n",
       "      <td>0.238356</td>\n",
       "      <td>1.000000</td>\n",
       "    </tr>\n",
       "  </tbody>\n",
       "</table>\n",
       "</div>"
      ],
      "text/plain": [
       "                          Pregnancies   Glucose  BloodPressure  SkinThickness  \\\n",
       "Pregnancies                  1.000000  0.129459       0.141282      -0.081672   \n",
       "Glucose                      0.129459  1.000000       0.152590       0.057328   \n",
       "BloodPressure                0.141282  0.152590       1.000000       0.207371   \n",
       "SkinThickness               -0.081672  0.057328       0.207371       1.000000   \n",
       "Insulin                     -0.073535  0.331357       0.088933       0.436783   \n",
       "BMI                          0.017683  0.221071       0.281805       0.392573   \n",
       "DiabetesPedigreeFunction    -0.033523  0.137337       0.041265       0.183928   \n",
       "Age                          0.544341  0.263514       0.239528      -0.113970   \n",
       "Outcome                      0.221898  0.466581       0.065068       0.074752   \n",
       "\n",
       "                           Insulin       BMI  DiabetesPedigreeFunction  \\\n",
       "Pregnancies              -0.073535  0.017683                 -0.033523   \n",
       "Glucose                   0.331357  0.221071                  0.137337   \n",
       "BloodPressure             0.088933  0.281805                  0.041265   \n",
       "SkinThickness             0.436783  0.392573                  0.183928   \n",
       "Insulin                   1.000000  0.197859                  0.185071   \n",
       "BMI                       0.197859  1.000000                  0.140647   \n",
       "DiabetesPedigreeFunction  0.185071  0.140647                  1.000000   \n",
       "Age                      -0.042163  0.036242                  0.033561   \n",
       "Outcome                   0.130548  0.292695                  0.173844   \n",
       "\n",
       "                               Age   Outcome  \n",
       "Pregnancies               0.544341  0.221898  \n",
       "Glucose                   0.263514  0.466581  \n",
       "BloodPressure             0.239528  0.065068  \n",
       "SkinThickness            -0.113970  0.074752  \n",
       "Insulin                  -0.042163  0.130548  \n",
       "BMI                       0.036242  0.292695  \n",
       "DiabetesPedigreeFunction  0.033561  0.173844  \n",
       "Age                       1.000000  0.238356  \n",
       "Outcome                   0.238356  1.000000  "
      ]
     },
     "execution_count": 25,
     "metadata": {},
     "output_type": "execute_result"
    }
   ],
   "source": [
    "df.corr()"
   ]
  },
  {
   "cell_type": "code",
   "execution_count": 36,
   "id": "e1076113-b1dd-42e0-bcc9-55671d59c780",
   "metadata": {
    "scrolled": true
   },
   "outputs": [
    {
     "data": {
      "image/png": "[encoded data removed]",
      "text/plain": [
       "<Figure size 1800x1300 with 2 Axes>"
      ]
     },
     "metadata": {},
     "output_type": "display_data"
    }
   ],
   "source": [
    "f, ax = plt.subplots(figsize=[18,13])\n",
    "sns.heatmap(df.corr(),annot=True,fmt=\".2f\",ax=ax, cmap=\"magma\")\n",
    "ax.set_title(\"Correlation Matrix\", fontsize=20)\n",
    "plt.show(block=True)"
   ]
  },
  {
   "cell_type": "markdown",
   "id": "3a403c65-d3ac-4ad9-9b1d-551fa38f683e",
   "metadata": {},
   "source": [
    "### Görev 2 : Feature Engineering"
   ]
  },
  {
   "cell_type": "markdown",
   "id": "759fde20-03eb-44a5-ac80-7c90a029800d",
   "metadata": {},
   "source": [
    "Adım 1:  Eksik ve aykırı değerler için gerekli işlemleri yapınız. Veri setinde eksik gözlem bulunmamakta ama Glikoz, Insulin vb. değişkenlerde 0 değeri içeren gözlem birimleri eksik değeri ifade ediyor olabilir. Örneğin; bir kişinin glikoz veya insulin değeri 0 olamayacaktır. Bu durumudikkate alarak sıfır değerlerini ilgili değerlerde NaN olarak atama yapıp sonrasında eksik değerlere işlemleri uygulayabilirsiniz."
   ]
  },
  {
   "cell_type": "code",
   "execution_count": 38,
   "id": "bc165aa5-6f7c-4473-b4aa-21dc76af9fb5",
   "metadata": {},
   "outputs": [],
   "source": [
    "zero_columns = [col for col in df.columns if(df[col].min() == 0 and col not in [\"Pregnancies\",\"Outcome\"])]"
   ]
  },
  {
   "cell_type": "code",
   "execution_count": 39,
   "id": "22b95c2d-2173-4fc5-9d70-148726af5ab1",
   "metadata": {},
   "outputs": [
    {
     "data": {
      "text/plain": [
       "['Glucose', 'BloodPressure', 'SkinThickness', 'Insulin', 'BMI']"
      ]
     },
     "execution_count": 39,
     "metadata": {},
     "output_type": "execute_result"
    }
   ],
   "source": [
    "zero_columns"
   ]
  },
  {
   "cell_type": "code",
   "execution_count": 40,
   "id": "ebaf9283-af41-41e5-81be-635c157cdcdf",
   "metadata": {},
   "outputs": [],
   "source": [
    "for col in zero_columns:\n",
    "    df[col] = np.where(df[col] == 0, np.nan, df[col])"
   ]
  },
  {
   "cell_type": "code",
   "execution_count": 41,
   "id": "b6c9c7f6-ed6d-4415-964a-a7f74d05be3c",
   "metadata": {},
   "outputs": [
    {
     "data": {
      "text/plain": [
       "Pregnancies                   0\n",
       "Glucose                       5\n",
       "BloodPressure                35\n",
       "SkinThickness               227\n",
       "Insulin                     374\n",
       "BMI                          11\n",
       "DiabetesPedigreeFunction      0\n",
       "Age                           0\n",
       "Outcome                       0\n",
       "dtype: int64"
      ]
     },
     "execution_count": 41,
     "metadata": {},
     "output_type": "execute_result"
    }
   ],
   "source": [
    "df.isnull().sum()"
   ]
  },
  {
   "cell_type": "code",
   "execution_count": 42,
   "id": "6590ea70-b353-42e4-8442-6c13dc23f22b",
   "metadata": {},
   "outputs": [],
   "source": [
    "def missing_values_table(df,na_name=False):\n",
    "    na_columns = [col for col in df.columns if df[col].isnull().sum() > 0]\n",
    "    n_miss = df[na_columns].isnull().sum().sort_values(ascending=False)\n",
    "    ratio = (df[na_columns].isnull().sum() / df.shape[0] *100).sort_values(ascending=False)\n",
    "    missing_df = pd.concat([n_miss,np.round(ratio,2)],axis=1,keys=[\"n_miss\",\"ratio\"])\n",
    "    print(missing_df,end=\"\\n\" )\n",
    "    if na_name:\n",
    "        return na_columns"
   ]
  },
  {
   "cell_type": "code",
   "execution_count": 43,
   "id": "5183b483-bf35-4953-8cc7-e1966e2bfc10",
   "metadata": {},
   "outputs": [
    {
     "name": "stdout",
     "output_type": "stream",
     "text": [
      "               n_miss  ratio\n",
      "Insulin           374 48.700\n",
      "SkinThickness     227 29.560\n",
      "BloodPressure      35  4.560\n",
      "BMI                11  1.430\n",
      "Glucose             5  0.650\n"
     ]
    }
   ],
   "source": [
    "na_columns = missing_values_table(df,na_name=True)"
   ]
  },
  {
   "cell_type": "code",
   "execution_count": 44,
   "id": "00cd5c24-f9ec-4d7a-807f-62801f483516",
   "metadata": {},
   "outputs": [],
   "source": [
    "for col in zero_columns:\n",
    "    df.loc[df[col].isnull(),col] = df[col].median()"
   ]
  },
  {
   "cell_type": "code",
   "execution_count": 45,
   "id": "4aa4a71c-45be-4b8c-9b64-fe6c0b864431",
   "metadata": {},
   "outputs": [
    {
     "data": {
      "text/plain": [
       "Pregnancies                 0\n",
       "Glucose                     0\n",
       "BloodPressure               0\n",
       "SkinThickness               0\n",
       "Insulin                     0\n",
       "BMI                         0\n",
       "DiabetesPedigreeFunction    0\n",
       "Age                         0\n",
       "Outcome                     0\n",
       "dtype: int64"
      ]
     },
     "execution_count": 45,
     "metadata": {},
     "output_type": "execute_result"
    }
   ],
   "source": [
    "df.isnull().sum()"
   ]
  },
  {
   "cell_type": "markdown",
   "id": "da08f591-4c9e-4576-b2fb-9df459572799",
   "metadata": {},
   "source": [
    "Adım 2: Yeni değişkenler oluşturunuz."
   ]
  },
  {
   "cell_type": "code",
   "execution_count": 50,
   "id": "78c6e4ce-f685-496a-a302-4e157ffdf282",
   "metadata": {},
   "outputs": [],
   "source": [
    "# Yaş değişkenini kategorilere ayırıp yeni yaş değişkenleri oluşturulması"
   ]
  },
  {
   "cell_type": "code",
   "execution_count": 51,
   "id": "fedd4788-7041-44a3-a776-bade2ca4084f",
   "metadata": {},
   "outputs": [],
   "source": [
    "df.loc[(df[\"Age\"] >= 21) & (df[\"Age\"] < 50),\"NEW_AGE_CAT\"] = \"mature\"\n",
    "df.loc[(df[\"Age\"] >= 50),\"NEW_AGE_CAT\"] = \"senior\""
   ]
  },
  {
   "cell_type": "code",
   "execution_count": 53,
   "id": "b1d9607f-0ba2-423a-89c6-6c2dd9605e09",
   "metadata": {},
   "outputs": [],
   "source": [
    "# BMI 18,5 aşağısı underweight, 18.5 ile 24.9 arası normal, 24.9 ile 29.9 arası Overweight ve 30 üstü obez"
   ]
  },
  {
   "cell_type": "code",
   "execution_count": 55,
   "id": "2ac0a249-cc7c-4ab1-a783-d90196dd4967",
   "metadata": {},
   "outputs": [],
   "source": [
    "df[\"NEW_BMI\"] = pd.cut(x=df[\"BMI\"], bins=[0,18.5,24.9,29.9,100],labels=[\"Underwight\",\"Healthy\",\"Overweight\",\"Obese\"])"
   ]
  },
  {
   "cell_type": "code",
   "execution_count": 56,
   "id": "ce203cfe-4f24-40ff-8606-a2f85f8be5dc",
   "metadata": {},
   "outputs": [],
   "source": [
    "#Glukoz değerini kategorik değişkene çevirme"
   ]
  },
  {
   "cell_type": "code",
   "execution_count": 58,
   "id": "09ec53e3-cc39-4fb9-aa1f-3eed2f025d3f",
   "metadata": {},
   "outputs": [],
   "source": [
    "df[\"NEW_GLUCOSE\"] = pd.cut(x=df[\"Glucose\"], bins=[0,140,200,300],labels=[\"Normal\",\"Prediabetes\",\"Diabetes\"])"
   ]
  },
  {
   "cell_type": "code",
   "execution_count": null,
   "id": "437aa388-f770-49a2-afea-40dc4818aa16",
   "metadata": {},
   "outputs": [],
   "source": [
    "#Yaş ve beden kitle indekisni bir arada düşünerek kategorik değişken oluşturma"
   ]
  },
  {
   "cell_type": "code",
   "execution_count": 60,
   "id": "792673e2-fe54-4424-82cf-be7d3222424f",
   "metadata": {},
   "outputs": [],
   "source": [
    "df[\"NEW_AGE_BMI_NOM\"] =  [\"\".join(i) for i in df[[\"NEW_BMI\",\"NEW_AGE_CAT\"]].values]"
   ]
  },
  {
   "cell_type": "code",
   "execution_count": 61,
   "id": "f1903fc1-b7dd-43b1-9caf-d7ae12fd5f0b",
   "metadata": {},
   "outputs": [
    {
     "data": {
      "text/html": [
       "<div>\n",
       "<style scoped>\n",
       "    .dataframe tbody tr th:only-of-type {\n",
       "        vertical-align: middle;\n",
       "    }\n",
       "\n",
       "    .dataframe tbody tr th {\n",
       "        vertical-align: top;\n",
       "    }\n",
       "\n",
       "    .dataframe thead th {\n",
       "        text-align: right;\n",
       "    }\n",
       "</style>\n",
       "<table border=\"1\" class=\"dataframe\">\n",
       "  <thead>\n",
       "    <tr style=\"text-align: right;\">\n",
       "      <th></th>\n",
       "      <th>Pregnancies</th>\n",
       "      <th>Glucose</th>\n",
       "      <th>BloodPressure</th>\n",
       "      <th>SkinThickness</th>\n",
       "      <th>Insulin</th>\n",
       "      <th>BMI</th>\n",
       "      <th>DiabetesPedigreeFunction</th>\n",
       "      <th>Age</th>\n",
       "      <th>Outcome</th>\n",
       "      <th>NEW_AGE_CAT</th>\n",
       "      <th>NEW_BMI</th>\n",
       "      <th>NEW_GLUCOSE</th>\n",
       "      <th>NEW_AGE_BMI_NOM</th>\n",
       "    </tr>\n",
       "  </thead>\n",
       "  <tbody>\n",
       "    <tr>\n",
       "      <th>0</th>\n",
       "      <td>6.000</td>\n",
       "      <td>148.000</td>\n",
       "      <td>72.000</td>\n",
       "      <td>35.000</td>\n",
       "      <td>125.000</td>\n",
       "      <td>33.600</td>\n",
       "      <td>0.627</td>\n",
       "      <td>50.000</td>\n",
       "      <td>1</td>\n",
       "      <td>senior</td>\n",
       "      <td>Obese</td>\n",
       "      <td>Prediabetes</td>\n",
       "      <td>Obesesenior</td>\n",
       "    </tr>\n",
       "    <tr>\n",
       "      <th>1</th>\n",
       "      <td>1.000</td>\n",
       "      <td>85.000</td>\n",
       "      <td>66.000</td>\n",
       "      <td>29.000</td>\n",
       "      <td>125.000</td>\n",
       "      <td>26.600</td>\n",
       "      <td>0.351</td>\n",
       "      <td>31.000</td>\n",
       "      <td>0</td>\n",
       "      <td>mature</td>\n",
       "      <td>Overweight</td>\n",
       "      <td>Normal</td>\n",
       "      <td>Overweightmature</td>\n",
       "    </tr>\n",
       "    <tr>\n",
       "      <th>2</th>\n",
       "      <td>8.000</td>\n",
       "      <td>183.000</td>\n",
       "      <td>64.000</td>\n",
       "      <td>29.000</td>\n",
       "      <td>125.000</td>\n",
       "      <td>23.300</td>\n",
       "      <td>0.672</td>\n",
       "      <td>32.000</td>\n",
       "      <td>1</td>\n",
       "      <td>mature</td>\n",
       "      <td>Healthy</td>\n",
       "      <td>Prediabetes</td>\n",
       "      <td>Healthymature</td>\n",
       "    </tr>\n",
       "    <tr>\n",
       "      <th>3</th>\n",
       "      <td>1.000</td>\n",
       "      <td>89.000</td>\n",
       "      <td>66.000</td>\n",
       "      <td>23.000</td>\n",
       "      <td>112.875</td>\n",
       "      <td>28.100</td>\n",
       "      <td>0.167</td>\n",
       "      <td>21.000</td>\n",
       "      <td>0</td>\n",
       "      <td>mature</td>\n",
       "      <td>Overweight</td>\n",
       "      <td>Normal</td>\n",
       "      <td>Overweightmature</td>\n",
       "    </tr>\n",
       "    <tr>\n",
       "      <th>4</th>\n",
       "      <td>0.000</td>\n",
       "      <td>137.000</td>\n",
       "      <td>40.000</td>\n",
       "      <td>35.000</td>\n",
       "      <td>135.875</td>\n",
       "      <td>43.100</td>\n",
       "      <td>1.200</td>\n",
       "      <td>33.000</td>\n",
       "      <td>1</td>\n",
       "      <td>mature</td>\n",
       "      <td>Obese</td>\n",
       "      <td>Normal</td>\n",
       "      <td>Obesemature</td>\n",
       "    </tr>\n",
       "  </tbody>\n",
       "</table>\n",
       "</div>"
      ],
      "text/plain": [
       "   Pregnancies  Glucose  BloodPressure  SkinThickness  Insulin    BMI  DiabetesPedigreeFunction    Age  Outcome NEW_AGE_CAT     NEW_BMI  NEW_GLUCOSE   NEW_AGE_BMI_NOM\n",
       "0        6.000  148.000         72.000         35.000  125.000 33.600                     0.627 50.000        1      senior       Obese  Prediabetes       Obesesenior\n",
       "1        1.000   85.000         66.000         29.000  125.000 26.600                     0.351 31.000        0      mature  Overweight       Normal  Overweightmature\n",
       "2        8.000  183.000         64.000         29.000  125.000 23.300                     0.672 32.000        1      mature     Healthy  Prediabetes     Healthymature\n",
       "3        1.000   89.000         66.000         23.000  112.875 28.100                     0.167 21.000        0      mature  Overweight       Normal  Overweightmature\n",
       "4        0.000  137.000         40.000         35.000  135.875 43.100                     1.200 33.000        1      mature       Obese       Normal       Obesemature"
      ]
     },
     "execution_count": 61,
     "metadata": {},
     "output_type": "execute_result"
    }
   ],
   "source": [
    "df.head()"
   ]
  },
  {
   "cell_type": "code",
   "execution_count": 62,
   "id": "c1e6fe26-c1bc-4151-8933-976c8153acdc",
   "metadata": {},
   "outputs": [],
   "source": [
    "#Yaş ve glikoz değerlerini bir arada düşünerek kategorik değişken oluşturma"
   ]
  },
  {
   "cell_type": "code",
   "execution_count": 63,
   "id": "8e0636e3-f821-4be3-91a9-d49043c77863",
   "metadata": {},
   "outputs": [],
   "source": [
    "df[\"NEW_AGE_GLUCOSE_NOM\"] =  [\"\".join(i) for i in df[[\"NEW_GLUCOSE\",\"NEW_AGE_CAT\"]].values]"
   ]
  },
  {
   "cell_type": "code",
   "execution_count": 64,
   "id": "a21d4dda-2314-4599-9e31-3261d38a56b0",
   "metadata": {},
   "outputs": [
    {
     "data": {
      "text/html": [
       "<div>\n",
       "<style scoped>\n",
       "    .dataframe tbody tr th:only-of-type {\n",
       "        vertical-align: middle;\n",
       "    }\n",
       "\n",
       "    .dataframe tbody tr th {\n",
       "        vertical-align: top;\n",
       "    }\n",
       "\n",
       "    .dataframe thead th {\n",
       "        text-align: right;\n",
       "    }\n",
       "</style>\n",
       "<table border=\"1\" class=\"dataframe\">\n",
       "  <thead>\n",
       "    <tr style=\"text-align: right;\">\n",
       "      <th></th>\n",
       "      <th>Pregnancies</th>\n",
       "      <th>Glucose</th>\n",
       "      <th>BloodPressure</th>\n",
       "      <th>SkinThickness</th>\n",
       "      <th>Insulin</th>\n",
       "      <th>BMI</th>\n",
       "      <th>DiabetesPedigreeFunction</th>\n",
       "      <th>Age</th>\n",
       "      <th>Outcome</th>\n",
       "      <th>NEW_AGE_CAT</th>\n",
       "      <th>NEW_BMI</th>\n",
       "      <th>NEW_GLUCOSE</th>\n",
       "      <th>NEW_AGE_BMI_NOM</th>\n",
       "      <th>NEW_AGE_GLUCOSE_NOM</th>\n",
       "    </tr>\n",
       "  </thead>\n",
       "  <tbody>\n",
       "    <tr>\n",
       "      <th>0</th>\n",
       "      <td>6.000</td>\n",
       "      <td>148.000</td>\n",
       "      <td>72.000</td>\n",
       "      <td>35.000</td>\n",
       "      <td>125.000</td>\n",
       "      <td>33.600</td>\n",
       "      <td>0.627</td>\n",
       "      <td>50.000</td>\n",
       "      <td>1</td>\n",
       "      <td>senior</td>\n",
       "      <td>Obese</td>\n",
       "      <td>Prediabetes</td>\n",
       "      <td>Obesesenior</td>\n",
       "      <td>Prediabetessenior</td>\n",
       "    </tr>\n",
       "    <tr>\n",
       "      <th>1</th>\n",
       "      <td>1.000</td>\n",
       "      <td>85.000</td>\n",
       "      <td>66.000</td>\n",
       "      <td>29.000</td>\n",
       "      <td>125.000</td>\n",
       "      <td>26.600</td>\n",
       "      <td>0.351</td>\n",
       "      <td>31.000</td>\n",
       "      <td>0</td>\n",
       "      <td>mature</td>\n",
       "      <td>Overweight</td>\n",
       "      <td>Normal</td>\n",
       "      <td>Overweightmature</td>\n",
       "      <td>Normalmature</td>\n",
       "    </tr>\n",
       "    <tr>\n",
       "      <th>2</th>\n",
       "      <td>8.000</td>\n",
       "      <td>183.000</td>\n",
       "      <td>64.000</td>\n",
       "      <td>29.000</td>\n",
       "      <td>125.000</td>\n",
       "      <td>23.300</td>\n",
       "      <td>0.672</td>\n",
       "      <td>32.000</td>\n",
       "      <td>1</td>\n",
       "      <td>mature</td>\n",
       "      <td>Healthy</td>\n",
       "      <td>Prediabetes</td>\n",
       "      <td>Healthymature</td>\n",
       "      <td>Prediabetesmature</td>\n",
       "    </tr>\n",
       "    <tr>\n",
       "      <th>3</th>\n",
       "      <td>1.000</td>\n",
       "      <td>89.000</td>\n",
       "      <td>66.000</td>\n",
       "      <td>23.000</td>\n",
       "      <td>112.875</td>\n",
       "      <td>28.100</td>\n",
       "      <td>0.167</td>\n",
       "      <td>21.000</td>\n",
       "      <td>0</td>\n",
       "      <td>mature</td>\n",
       "      <td>Overweight</td>\n",
       "      <td>Normal</td>\n",
       "      <td>Overweightmature</td>\n",
       "      <td>Normalmature</td>\n",
       "    </tr>\n",
       "    <tr>\n",
       "      <th>4</th>\n",
       "      <td>0.000</td>\n",
       "      <td>137.000</td>\n",
       "      <td>40.000</td>\n",
       "      <td>35.000</td>\n",
       "      <td>135.875</td>\n",
       "      <td>43.100</td>\n",
       "      <td>1.200</td>\n",
       "      <td>33.000</td>\n",
       "      <td>1</td>\n",
       "      <td>mature</td>\n",
       "      <td>Obese</td>\n",
       "      <td>Normal</td>\n",
       "      <td>Obesemature</td>\n",
       "      <td>Normalmature</td>\n",
       "    </tr>\n",
       "  </tbody>\n",
       "</table>\n",
       "</div>"
      ],
      "text/plain": [
       "   Pregnancies  Glucose  BloodPressure  SkinThickness  Insulin    BMI  DiabetesPedigreeFunction    Age  Outcome NEW_AGE_CAT     NEW_BMI  NEW_GLUCOSE   NEW_AGE_BMI_NOM NEW_AGE_GLUCOSE_NOM\n",
       "0        6.000  148.000         72.000         35.000  125.000 33.600                     0.627 50.000        1      senior       Obese  Prediabetes       Obesesenior   Prediabetessenior\n",
       "1        1.000   85.000         66.000         29.000  125.000 26.600                     0.351 31.000        0      mature  Overweight       Normal  Overweightmature        Normalmature\n",
       "2        8.000  183.000         64.000         29.000  125.000 23.300                     0.672 32.000        1      mature     Healthy  Prediabetes     Healthymature   Prediabetesmature\n",
       "3        1.000   89.000         66.000         23.000  112.875 28.100                     0.167 21.000        0      mature  Overweight       Normal  Overweightmature        Normalmature\n",
       "4        0.000  137.000         40.000         35.000  135.875 43.100                     1.200 33.000        1      mature       Obese       Normal       Obesemature        Normalmature"
      ]
     },
     "execution_count": 64,
     "metadata": {},
     "output_type": "execute_result"
    }
   ],
   "source": [
    "df.head()"
   ]
  },
  {
   "cell_type": "code",
   "execution_count": 65,
   "id": "7cdf1f28-f0f3-48ed-869d-13430aa228a7",
   "metadata": {},
   "outputs": [],
   "source": [
    "#İnsülin değeri ile kategorik değişken üretmek"
   ]
  },
  {
   "cell_type": "code",
   "execution_count": 66,
   "id": "e13e6124-457b-446e-837a-f45d95821bb8",
   "metadata": {},
   "outputs": [],
   "source": [
    "def set_insulin(df,col=\"Insulin\"):\n",
    "    if 16<= df[col]  <= 166:\n",
    "        return \"Normal\"\n",
    "    else:\n",
    "        return \"Anormal\""
   ]
  },
  {
   "cell_type": "code",
   "execution_count": 67,
   "id": "7d834d08-a5ae-4386-8b86-51a3f88f196d",
   "metadata": {},
   "outputs": [],
   "source": [
    "df[\"NEW_INSULIN_SCORE\"] = df.apply(set_insulin,axis=1)"
   ]
  },
  {
   "cell_type": "code",
   "execution_count": 68,
   "id": "81fce997-97d9-461c-9374-c1f9a6547cb7",
   "metadata": {},
   "outputs": [],
   "source": [
    "df[\"NEW_GLUCOSE*INSULIN\"] = df[\"Glucose\"] * df[\"Insulin\"]"
   ]
  },
  {
   "cell_type": "code",
   "execution_count": 69,
   "id": "0579f78f-781a-4150-832e-0e1c8468e391",
   "metadata": {},
   "outputs": [],
   "source": [
    "df.columns = [col.upper() for col in df.columns]"
   ]
  },
  {
   "cell_type": "code",
   "execution_count": 70,
   "id": "5b21d1cc-ff0e-4b88-bd29-78ca6800a3f6",
   "metadata": {},
   "outputs": [
    {
     "data": {
      "text/html": [
       "<div>\n",
       "<style scoped>\n",
       "    .dataframe tbody tr th:only-of-type {\n",
       "        vertical-align: middle;\n",
       "    }\n",
       "\n",
       "    .dataframe tbody tr th {\n",
       "        vertical-align: top;\n",
       "    }\n",
       "\n",
       "    .dataframe thead th {\n",
       "        text-align: right;\n",
       "    }\n",
       "</style>\n",
       "<table border=\"1\" class=\"dataframe\">\n",
       "  <thead>\n",
       "    <tr style=\"text-align: right;\">\n",
       "      <th></th>\n",
       "      <th>PREGNANCIES</th>\n",
       "      <th>GLUCOSE</th>\n",
       "      <th>BLOODPRESSURE</th>\n",
       "      <th>SKINTHICKNESS</th>\n",
       "      <th>INSULIN</th>\n",
       "      <th>BMI</th>\n",
       "      <th>DIABETESPEDIGREEFUNCTION</th>\n",
       "      <th>AGE</th>\n",
       "      <th>OUTCOME</th>\n",
       "      <th>NEW_AGE_CAT</th>\n",
       "      <th>NEW_BMI</th>\n",
       "      <th>NEW_GLUCOSE</th>\n",
       "      <th>NEW_AGE_BMI_NOM</th>\n",
       "      <th>NEW_AGE_GLUCOSE_NOM</th>\n",
       "      <th>NEW_INSULIN_SCORE</th>\n",
       "      <th>NEW_GLUCOSE*INSULIN</th>\n",
       "    </tr>\n",
       "  </thead>\n",
       "  <tbody>\n",
       "    <tr>\n",
       "      <th>0</th>\n",
       "      <td>6.000</td>\n",
       "      <td>148.000</td>\n",
       "      <td>72.000</td>\n",
       "      <td>35.000</td>\n",
       "      <td>125.000</td>\n",
       "      <td>33.600</td>\n",
       "      <td>0.627</td>\n",
       "      <td>50.000</td>\n",
       "      <td>1</td>\n",
       "      <td>senior</td>\n",
       "      <td>Obese</td>\n",
       "      <td>Prediabetes</td>\n",
       "      <td>Obesesenior</td>\n",
       "      <td>Prediabetessenior</td>\n",
       "      <td>Normal</td>\n",
       "      <td>18500.000</td>\n",
       "    </tr>\n",
       "    <tr>\n",
       "      <th>1</th>\n",
       "      <td>1.000</td>\n",
       "      <td>85.000</td>\n",
       "      <td>66.000</td>\n",
       "      <td>29.000</td>\n",
       "      <td>125.000</td>\n",
       "      <td>26.600</td>\n",
       "      <td>0.351</td>\n",
       "      <td>31.000</td>\n",
       "      <td>0</td>\n",
       "      <td>mature</td>\n",
       "      <td>Overweight</td>\n",
       "      <td>Normal</td>\n",
       "      <td>Overweightmature</td>\n",
       "      <td>Normalmature</td>\n",
       "      <td>Normal</td>\n",
       "      <td>10625.000</td>\n",
       "    </tr>\n",
       "    <tr>\n",
       "      <th>2</th>\n",
       "      <td>8.000</td>\n",
       "      <td>183.000</td>\n",
       "      <td>64.000</td>\n",
       "      <td>29.000</td>\n",
       "      <td>125.000</td>\n",
       "      <td>23.300</td>\n",
       "      <td>0.672</td>\n",
       "      <td>32.000</td>\n",
       "      <td>1</td>\n",
       "      <td>mature</td>\n",
       "      <td>Healthy</td>\n",
       "      <td>Prediabetes</td>\n",
       "      <td>Healthymature</td>\n",
       "      <td>Prediabetesmature</td>\n",
       "      <td>Normal</td>\n",
       "      <td>22875.000</td>\n",
       "    </tr>\n",
       "    <tr>\n",
       "      <th>3</th>\n",
       "      <td>1.000</td>\n",
       "      <td>89.000</td>\n",
       "      <td>66.000</td>\n",
       "      <td>23.000</td>\n",
       "      <td>112.875</td>\n",
       "      <td>28.100</td>\n",
       "      <td>0.167</td>\n",
       "      <td>21.000</td>\n",
       "      <td>0</td>\n",
       "      <td>mature</td>\n",
       "      <td>Overweight</td>\n",
       "      <td>Normal</td>\n",
       "      <td>Overweightmature</td>\n",
       "      <td>Normalmature</td>\n",
       "      <td>Normal</td>\n",
       "      <td>10045.875</td>\n",
       "    </tr>\n",
       "    <tr>\n",
       "      <th>4</th>\n",
       "      <td>0.000</td>\n",
       "      <td>137.000</td>\n",
       "      <td>40.000</td>\n",
       "      <td>35.000</td>\n",
       "      <td>135.875</td>\n",
       "      <td>43.100</td>\n",
       "      <td>1.200</td>\n",
       "      <td>33.000</td>\n",
       "      <td>1</td>\n",
       "      <td>mature</td>\n",
       "      <td>Obese</td>\n",
       "      <td>Normal</td>\n",
       "      <td>Obesemature</td>\n",
       "      <td>Normalmature</td>\n",
       "      <td>Normal</td>\n",
       "      <td>18614.875</td>\n",
       "    </tr>\n",
       "  </tbody>\n",
       "</table>\n",
       "</div>"
      ],
      "text/plain": [
       "   PREGNANCIES  GLUCOSE  BLOODPRESSURE  SKINTHICKNESS  INSULIN    BMI  DIABETESPEDIGREEFUNCTION    AGE  OUTCOME NEW_AGE_CAT     NEW_BMI  NEW_GLUCOSE   NEW_AGE_BMI_NOM NEW_AGE_GLUCOSE_NOM NEW_INSULIN_SCORE  NEW_GLUCOSE*INSULIN\n",
       "0        6.000  148.000         72.000         35.000  125.000 33.600                     0.627 50.000        1      senior       Obese  Prediabetes       Obesesenior   Prediabetessenior            Normal            18500.000\n",
       "1        1.000   85.000         66.000         29.000  125.000 26.600                     0.351 31.000        0      mature  Overweight       Normal  Overweightmature        Normalmature            Normal            10625.000\n",
       "2        8.000  183.000         64.000         29.000  125.000 23.300                     0.672 32.000        1      mature     Healthy  Prediabetes     Healthymature   Prediabetesmature            Normal            22875.000\n",
       "3        1.000   89.000         66.000         23.000  112.875 28.100                     0.167 21.000        0      mature  Overweight       Normal  Overweightmature        Normalmature            Normal            10045.875\n",
       "4        0.000  137.000         40.000         35.000  135.875 43.100                     1.200 33.000        1      mature       Obese       Normal       Obesemature        Normalmature            Normal            18614.875"
      ]
     },
     "execution_count": 70,
     "metadata": {},
     "output_type": "execute_result"
    }
   ],
   "source": [
    "df.head()"
   ]
  },
  {
   "cell_type": "markdown",
   "id": "20f45bb3-0233-4a9c-8ed7-b84976681f81",
   "metadata": {},
   "source": [
    "Adım 3:  Encoding işlemlerini gerçekleştiriniz."
   ]
  },
  {
   "cell_type": "code",
   "execution_count": 71,
   "id": "dcbf89f8-1c82-4b38-8810-8f258ce5838c",
   "metadata": {},
   "outputs": [
    {
     "name": "stdout",
     "output_type": "stream",
     "text": [
      "Observations: 768\n",
      "Variables: 16\n",
      "cat_cols: 7\n",
      "num_cols: 9\n",
      "cat_but_car: 0\n",
      "num_but_car: 3\n"
     ]
    }
   ],
   "source": [
    "cat_cols,num_cols,cat_but_car = grab_col_names(df)"
   ]
  },
  {
   "cell_type": "code",
   "execution_count": 72,
   "id": "21f444ea-8fa3-4cef-8f83-2b44fe0a8014",
   "metadata": {},
   "outputs": [],
   "source": [
    "def label_encoder(df,binary_col):\n",
    "    le = LabelEncoder()\n",
    "    df[binary_col] = le.fit_transform(df[binary_col])\n",
    "    return df"
   ]
  },
  {
   "cell_type": "code",
   "execution_count": 73,
   "id": "2e925d93-9f76-4519-87e0-e9563addb776",
   "metadata": {},
   "outputs": [],
   "source": [
    "binary_cols = [col for col in df.columns if df[col].dtype not in [\"int64\",\"float64\"] and df[col].nunique() == 2]"
   ]
  },
  {
   "cell_type": "code",
   "execution_count": 74,
   "id": "16c0e63b-eafa-425a-93bf-227096e37e47",
   "metadata": {},
   "outputs": [
    {
     "data": {
      "text/plain": [
       "['NEW_AGE_CAT', 'NEW_GLUCOSE']"
      ]
     },
     "execution_count": 74,
     "metadata": {},
     "output_type": "execute_result"
    }
   ],
   "source": [
    "binary_cols"
   ]
  },
  {
   "cell_type": "code",
   "execution_count": 75,
   "id": "31e474c6-b422-4ccc-91dc-33d99c6e3857",
   "metadata": {},
   "outputs": [],
   "source": [
    "for col in binary_cols:\n",
    "    df = label_encoder(df,col)"
   ]
  },
  {
   "cell_type": "code",
   "execution_count": 76,
   "id": "32de87c0-3e06-4724-b5ec-4281692b9d04",
   "metadata": {},
   "outputs": [
    {
     "data": {
      "text/html": [
       "<div>\n",
       "<style scoped>\n",
       "    .dataframe tbody tr th:only-of-type {\n",
       "        vertical-align: middle;\n",
       "    }\n",
       "\n",
       "    .dataframe tbody tr th {\n",
       "        vertical-align: top;\n",
       "    }\n",
       "\n",
       "    .dataframe thead th {\n",
       "        text-align: right;\n",
       "    }\n",
       "</style>\n",
       "<table border=\"1\" class=\"dataframe\">\n",
       "  <thead>\n",
       "    <tr style=\"text-align: right;\">\n",
       "      <th></th>\n",
       "      <th>PREGNANCIES</th>\n",
       "      <th>GLUCOSE</th>\n",
       "      <th>BLOODPRESSURE</th>\n",
       "      <th>SKINTHICKNESS</th>\n",
       "      <th>INSULIN</th>\n",
       "      <th>BMI</th>\n",
       "      <th>DIABETESPEDIGREEFUNCTION</th>\n",
       "      <th>AGE</th>\n",
       "      <th>OUTCOME</th>\n",
       "      <th>NEW_AGE_CAT</th>\n",
       "      <th>NEW_BMI</th>\n",
       "      <th>NEW_GLUCOSE</th>\n",
       "      <th>NEW_AGE_BMI_NOM</th>\n",
       "      <th>NEW_AGE_GLUCOSE_NOM</th>\n",
       "      <th>NEW_INSULIN_SCORE</th>\n",
       "      <th>NEW_GLUCOSE*INSULIN</th>\n",
       "    </tr>\n",
       "  </thead>\n",
       "  <tbody>\n",
       "    <tr>\n",
       "      <th>0</th>\n",
       "      <td>6.000</td>\n",
       "      <td>148.000</td>\n",
       "      <td>72.000</td>\n",
       "      <td>35.000</td>\n",
       "      <td>125.000</td>\n",
       "      <td>33.600</td>\n",
       "      <td>0.627</td>\n",
       "      <td>50.000</td>\n",
       "      <td>1</td>\n",
       "      <td>1</td>\n",
       "      <td>Obese</td>\n",
       "      <td>1</td>\n",
       "      <td>Obesesenior</td>\n",
       "      <td>Prediabetessenior</td>\n",
       "      <td>Normal</td>\n",
       "      <td>18500.000</td>\n",
       "    </tr>\n",
       "    <tr>\n",
       "      <th>1</th>\n",
       "      <td>1.000</td>\n",
       "      <td>85.000</td>\n",
       "      <td>66.000</td>\n",
       "      <td>29.000</td>\n",
       "      <td>125.000</td>\n",
       "      <td>26.600</td>\n",
       "      <td>0.351</td>\n",
       "      <td>31.000</td>\n",
       "      <td>0</td>\n",
       "      <td>0</td>\n",
       "      <td>Overweight</td>\n",
       "      <td>0</td>\n",
       "      <td>Overweightmature</td>\n",
       "      <td>Normalmature</td>\n",
       "      <td>Normal</td>\n",
       "      <td>10625.000</td>\n",
       "    </tr>\n",
       "    <tr>\n",
       "      <th>2</th>\n",
       "      <td>8.000</td>\n",
       "      <td>183.000</td>\n",
       "      <td>64.000</td>\n",
       "      <td>29.000</td>\n",
       "      <td>125.000</td>\n",
       "      <td>23.300</td>\n",
       "      <td>0.672</td>\n",
       "      <td>32.000</td>\n",
       "      <td>1</td>\n",
       "      <td>0</td>\n",
       "      <td>Healthy</td>\n",
       "      <td>1</td>\n",
       "      <td>Healthymature</td>\n",
       "      <td>Prediabetesmature</td>\n",
       "      <td>Normal</td>\n",
       "      <td>22875.000</td>\n",
       "    </tr>\n",
       "    <tr>\n",
       "      <th>3</th>\n",
       "      <td>1.000</td>\n",
       "      <td>89.000</td>\n",
       "      <td>66.000</td>\n",
       "      <td>23.000</td>\n",
       "      <td>112.875</td>\n",
       "      <td>28.100</td>\n",
       "      <td>0.167</td>\n",
       "      <td>21.000</td>\n",
       "      <td>0</td>\n",
       "      <td>0</td>\n",
       "      <td>Overweight</td>\n",
       "      <td>0</td>\n",
       "      <td>Overweightmature</td>\n",
       "      <td>Normalmature</td>\n",
       "      <td>Normal</td>\n",
       "      <td>10045.875</td>\n",
       "    </tr>\n",
       "    <tr>\n",
       "      <th>4</th>\n",
       "      <td>0.000</td>\n",
       "      <td>137.000</td>\n",
       "      <td>40.000</td>\n",
       "      <td>35.000</td>\n",
       "      <td>135.875</td>\n",
       "      <td>43.100</td>\n",
       "      <td>1.200</td>\n",
       "      <td>33.000</td>\n",
       "      <td>1</td>\n",
       "      <td>0</td>\n",
       "      <td>Obese</td>\n",
       "      <td>0</td>\n",
       "      <td>Obesemature</td>\n",
       "      <td>Normalmature</td>\n",
       "      <td>Normal</td>\n",
       "      <td>18614.875</td>\n",
       "    </tr>\n",
       "  </tbody>\n",
       "</table>\n",
       "</div>"
      ],
      "text/plain": [
       "   PREGNANCIES  GLUCOSE  BLOODPRESSURE  SKINTHICKNESS  INSULIN    BMI  DIABETESPEDIGREEFUNCTION    AGE  OUTCOME  NEW_AGE_CAT     NEW_BMI  NEW_GLUCOSE   NEW_AGE_BMI_NOM NEW_AGE_GLUCOSE_NOM NEW_INSULIN_SCORE  NEW_GLUCOSE*INSULIN\n",
       "0        6.000  148.000         72.000         35.000  125.000 33.600                     0.627 50.000        1            1       Obese            1       Obesesenior   Prediabetessenior            Normal            18500.000\n",
       "1        1.000   85.000         66.000         29.000  125.000 26.600                     0.351 31.000        0            0  Overweight            0  Overweightmature        Normalmature            Normal            10625.000\n",
       "2        8.000  183.000         64.000         29.000  125.000 23.300                     0.672 32.000        1            0     Healthy            1     Healthymature   Prediabetesmature            Normal            22875.000\n",
       "3        1.000   89.000         66.000         23.000  112.875 28.100                     0.167 21.000        0            0  Overweight            0  Overweightmature        Normalmature            Normal            10045.875\n",
       "4        0.000  137.000         40.000         35.000  135.875 43.100                     1.200 33.000        1            0       Obese            0       Obesemature        Normalmature            Normal            18614.875"
      ]
     },
     "execution_count": 76,
     "metadata": {},
     "output_type": "execute_result"
    }
   ],
   "source": [
    "df.head()"
   ]
  },
  {
   "cell_type": "code",
   "execution_count": 77,
   "id": "8f8a788b-2fc8-4b18-b405-d6764e2b01b2",
   "metadata": {},
   "outputs": [],
   "source": [
    "def one_hot_encoder(df,categorical_cols,drop_first=True):\n",
    "    df = pd.get_dummies(df,columns=categorical_cols,drop_first=drop_first)\n",
    "    return df"
   ]
  },
  {
   "cell_type": "code",
   "execution_count": 79,
   "id": "2836eff4-7f3f-4a41-8782-00940df2f2f4",
   "metadata": {},
   "outputs": [],
   "source": [
    "cat_cols = [col for col in cat_cols if col not in binary_cols and col not in [\"OUTCOME\"]]"
   ]
  },
  {
   "cell_type": "code",
   "execution_count": 80,
   "id": "9692a6c0-d315-4e24-968c-fc7561436277",
   "metadata": {},
   "outputs": [
    {
     "data": {
      "text/plain": [
       "['NEW_AGE_BMI_NOM', 'NEW_AGE_GLUCOSE_NOM', 'NEW_INSULIN_SCORE', 'NEW_BMI']"
      ]
     },
     "execution_count": 80,
     "metadata": {},
     "output_type": "execute_result"
    }
   ],
   "source": [
    "cat_cols"
   ]
  },
  {
   "cell_type": "code",
   "execution_count": 81,
   "id": "fbe25146-96ab-4518-a7da-b58e8f948ce6",
   "metadata": {},
   "outputs": [],
   "source": [
    "df = one_hot_encoder(df,cat_cols,drop_first=True)"
   ]
  },
  {
   "cell_type": "code",
   "execution_count": 82,
   "id": "e31d5fe6-60ec-4964-9454-653880dd1d39",
   "metadata": {},
   "outputs": [
    {
     "data": {
      "text/html": [
       "<div>\n",
       "<style scoped>\n",
       "    .dataframe tbody tr th:only-of-type {\n",
       "        vertical-align: middle;\n",
       "    }\n",
       "\n",
       "    .dataframe tbody tr th {\n",
       "        vertical-align: top;\n",
       "    }\n",
       "\n",
       "    .dataframe thead th {\n",
       "        text-align: right;\n",
       "    }\n",
       "</style>\n",
       "<table border=\"1\" class=\"dataframe\">\n",
       "  <thead>\n",
       "    <tr style=\"text-align: right;\">\n",
       "      <th></th>\n",
       "      <th>PREGNANCIES</th>\n",
       "      <th>GLUCOSE</th>\n",
       "      <th>BLOODPRESSURE</th>\n",
       "      <th>SKINTHICKNESS</th>\n",
       "      <th>INSULIN</th>\n",
       "      <th>BMI</th>\n",
       "      <th>DIABETESPEDIGREEFUNCTION</th>\n",
       "      <th>AGE</th>\n",
       "      <th>OUTCOME</th>\n",
       "      <th>NEW_AGE_CAT</th>\n",
       "      <th>NEW_GLUCOSE</th>\n",
       "      <th>NEW_GLUCOSE*INSULIN</th>\n",
       "      <th>NEW_AGE_BMI_NOM_Healthysenior</th>\n",
       "      <th>NEW_AGE_BMI_NOM_Obesemature</th>\n",
       "      <th>NEW_AGE_BMI_NOM_Obesesenior</th>\n",
       "      <th>NEW_AGE_BMI_NOM_Overweightmature</th>\n",
       "      <th>NEW_AGE_BMI_NOM_Overweightsenior</th>\n",
       "      <th>NEW_AGE_BMI_NOM_Underwightmature</th>\n",
       "      <th>NEW_AGE_GLUCOSE_NOM_Normalsenior</th>\n",
       "      <th>NEW_AGE_GLUCOSE_NOM_Prediabetesmature</th>\n",
       "      <th>NEW_AGE_GLUCOSE_NOM_Prediabetessenior</th>\n",
       "      <th>NEW_BMI_Healthy</th>\n",
       "      <th>NEW_BMI_Overweight</th>\n",
       "      <th>NEW_BMI_Obese</th>\n",
       "    </tr>\n",
       "  </thead>\n",
       "  <tbody>\n",
       "    <tr>\n",
       "      <th>0</th>\n",
       "      <td>6.000</td>\n",
       "      <td>148.000</td>\n",
       "      <td>72.000</td>\n",
       "      <td>35.000</td>\n",
       "      <td>125.000</td>\n",
       "      <td>33.600</td>\n",
       "      <td>0.627</td>\n",
       "      <td>50.000</td>\n",
       "      <td>1</td>\n",
       "      <td>1</td>\n",
       "      <td>1</td>\n",
       "      <td>18500.000</td>\n",
       "      <td>0</td>\n",
       "      <td>0</td>\n",
       "      <td>1</td>\n",
       "      <td>0</td>\n",
       "      <td>0</td>\n",
       "      <td>0</td>\n",
       "      <td>0</td>\n",
       "      <td>0</td>\n",
       "      <td>1</td>\n",
       "      <td>0</td>\n",
       "      <td>0</td>\n",
       "      <td>1</td>\n",
       "    </tr>\n",
       "    <tr>\n",
       "      <th>1</th>\n",
       "      <td>1.000</td>\n",
       "      <td>85.000</td>\n",
       "      <td>66.000</td>\n",
       "      <td>29.000</td>\n",
       "      <td>125.000</td>\n",
       "      <td>26.600</td>\n",
       "      <td>0.351</td>\n",
       "      <td>31.000</td>\n",
       "      <td>0</td>\n",
       "      <td>0</td>\n",
       "      <td>0</td>\n",
       "      <td>10625.000</td>\n",
       "      <td>0</td>\n",
       "      <td>0</td>\n",
       "      <td>0</td>\n",
       "      <td>1</td>\n",
       "      <td>0</td>\n",
       "      <td>0</td>\n",
       "      <td>0</td>\n",
       "      <td>0</td>\n",
       "      <td>0</td>\n",
       "      <td>0</td>\n",
       "      <td>1</td>\n",
       "      <td>0</td>\n",
       "    </tr>\n",
       "    <tr>\n",
       "      <th>2</th>\n",
       "      <td>8.000</td>\n",
       "      <td>183.000</td>\n",
       "      <td>64.000</td>\n",
       "      <td>29.000</td>\n",
       "      <td>125.000</td>\n",
       "      <td>23.300</td>\n",
       "      <td>0.672</td>\n",
       "      <td>32.000</td>\n",
       "      <td>1</td>\n",
       "      <td>0</td>\n",
       "      <td>1</td>\n",
       "      <td>22875.000</td>\n",
       "      <td>0</td>\n",
       "      <td>0</td>\n",
       "      <td>0</td>\n",
       "      <td>0</td>\n",
       "      <td>0</td>\n",
       "      <td>0</td>\n",
       "      <td>0</td>\n",
       "      <td>1</td>\n",
       "      <td>0</td>\n",
       "      <td>1</td>\n",
       "      <td>0</td>\n",
       "      <td>0</td>\n",
       "    </tr>\n",
       "    <tr>\n",
       "      <th>3</th>\n",
       "      <td>1.000</td>\n",
       "      <td>89.000</td>\n",
       "      <td>66.000</td>\n",
       "      <td>23.000</td>\n",
       "      <td>112.875</td>\n",
       "      <td>28.100</td>\n",
       "      <td>0.167</td>\n",
       "      <td>21.000</td>\n",
       "      <td>0</td>\n",
       "      <td>0</td>\n",
       "      <td>0</td>\n",
       "      <td>10045.875</td>\n",
       "      <td>0</td>\n",
       "      <td>0</td>\n",
       "      <td>0</td>\n",
       "      <td>1</td>\n",
       "      <td>0</td>\n",
       "      <td>0</td>\n",
       "      <td>0</td>\n",
       "      <td>0</td>\n",
       "      <td>0</td>\n",
       "      <td>0</td>\n",
       "      <td>1</td>\n",
       "      <td>0</td>\n",
       "    </tr>\n",
       "    <tr>\n",
       "      <th>4</th>\n",
       "      <td>0.000</td>\n",
       "      <td>137.000</td>\n",
       "      <td>40.000</td>\n",
       "      <td>35.000</td>\n",
       "      <td>135.875</td>\n",
       "      <td>43.100</td>\n",
       "      <td>1.200</td>\n",
       "      <td>33.000</td>\n",
       "      <td>1</td>\n",
       "      <td>0</td>\n",
       "      <td>0</td>\n",
       "      <td>18614.875</td>\n",
       "      <td>0</td>\n",
       "      <td>1</td>\n",
       "      <td>0</td>\n",
       "      <td>0</td>\n",
       "      <td>0</td>\n",
       "      <td>0</td>\n",
       "      <td>0</td>\n",
       "      <td>0</td>\n",
       "      <td>0</td>\n",
       "      <td>0</td>\n",
       "      <td>0</td>\n",
       "      <td>1</td>\n",
       "    </tr>\n",
       "  </tbody>\n",
       "</table>\n",
       "</div>"
      ],
      "text/plain": [
       "   PREGNANCIES  GLUCOSE  BLOODPRESSURE  SKINTHICKNESS  INSULIN    BMI  DIABETESPEDIGREEFUNCTION    AGE  OUTCOME  NEW_AGE_CAT  NEW_GLUCOSE  NEW_GLUCOSE*INSULIN  NEW_AGE_BMI_NOM_Healthysenior  NEW_AGE_BMI_NOM_Obesemature  NEW_AGE_BMI_NOM_Obesesenior  NEW_AGE_BMI_NOM_Overweightmature  NEW_AGE_BMI_NOM_Overweightsenior  NEW_AGE_BMI_NOM_Underwightmature  NEW_AGE_GLUCOSE_NOM_Normalsenior  NEW_AGE_GLUCOSE_NOM_Prediabetesmature  NEW_AGE_GLUCOSE_NOM_Prediabetessenior  NEW_BMI_Healthy  \\\n",
       "0        6.000  148.000         72.000         35.000  125.000 33.600                     0.627 50.000        1            1            1            18500.000                              0                            0                            1                                 0                                 0                                 0                                 0                                      0                                      1                0   \n",
       "1        1.000   85.000         66.000         29.000  125.000 26.600                     0.351 31.000        0            0            0            10625.000                              0                            0                            0                                 1                                 0                                 0                                 0                                      0                                      0                0   \n",
       "2        8.000  183.000         64.000         29.000  125.000 23.300                     0.672 32.000        1            0            1            22875.000                              0                            0                            0                                 0                                 0                                 0                                 0                                      1                                      0                1   \n",
       "3        1.000   89.000         66.000         23.000  112.875 28.100                     0.167 21.000        0            0            0            10045.875                              0                            0                            0                                 1                                 0                                 0                                 0                                      0                                      0                0   \n",
       "4        0.000  137.000         40.000         35.000  135.875 43.100                     1.200 33.000        1            0            0            18614.875                              0                            1                            0                                 0                                 0                                 0                                 0                                      0                                      0                0   \n",
       "\n",
       "   NEW_BMI_Overweight  NEW_BMI_Obese  \n",
       "0                   0              1  \n",
       "1                   1              0  \n",
       "2                   0              0  \n",
       "3                   1              0  \n",
       "4                   0              1  "
      ]
     },
     "execution_count": 82,
     "metadata": {},
     "output_type": "execute_result"
    }
   ],
   "source": [
    "df.head()"
   ]
  },
  {
   "cell_type": "markdown",
   "id": "91e0379c-4bcc-4378-9728-9d67b8d56f1e",
   "metadata": {},
   "source": [
    "Adım 4: Numerik değişkenler için standartlaştırma yapınız."
   ]
  },
  {
   "cell_type": "code",
   "execution_count": 83,
   "id": "9b92e764-604f-40b1-8e64-26825689746a",
   "metadata": {},
   "outputs": [
    {
     "data": {
      "text/plain": [
       "['PREGNANCIES',\n",
       " 'GLUCOSE',\n",
       " 'BLOODPRESSURE',\n",
       " 'SKINTHICKNESS',\n",
       " 'INSULIN',\n",
       " 'BMI',\n",
       " 'DIABETESPEDIGREEFUNCTION',\n",
       " 'AGE',\n",
       " 'NEW_GLUCOSE*INSULIN']"
      ]
     },
     "execution_count": 83,
     "metadata": {},
     "output_type": "execute_result"
    }
   ],
   "source": [
    "num_cols"
   ]
  },
  {
   "cell_type": "code",
   "execution_count": 86,
   "id": "eb7b819c-b8cc-43f2-8cc1-809a26fa89fa",
   "metadata": {},
   "outputs": [],
   "source": [
    "scaler = StandardScaler()\n",
    "df[num_cols] = scaler.fit_transform(df[num_cols])"
   ]
  },
  {
   "cell_type": "code",
   "execution_count": 87,
   "id": "b15aec74-3a5c-492e-93a5-269948517d94",
   "metadata": {},
   "outputs": [
    {
     "data": {
      "text/html": [
       "<div>\n",
       "<style scoped>\n",
       "    .dataframe tbody tr th:only-of-type {\n",
       "        vertical-align: middle;\n",
       "    }\n",
       "\n",
       "    .dataframe tbody tr th {\n",
       "        vertical-align: top;\n",
       "    }\n",
       "\n",
       "    .dataframe thead th {\n",
       "        text-align: right;\n",
       "    }\n",
       "</style>\n",
       "<table border=\"1\" class=\"dataframe\">\n",
       "  <thead>\n",
       "    <tr style=\"text-align: right;\">\n",
       "      <th></th>\n",
       "      <th>PREGNANCIES</th>\n",
       "      <th>GLUCOSE</th>\n",
       "      <th>BLOODPRESSURE</th>\n",
       "      <th>SKINTHICKNESS</th>\n",
       "      <th>INSULIN</th>\n",
       "      <th>BMI</th>\n",
       "      <th>DIABETESPEDIGREEFUNCTION</th>\n",
       "      <th>AGE</th>\n",
       "      <th>OUTCOME</th>\n",
       "      <th>NEW_AGE_CAT</th>\n",
       "      <th>NEW_GLUCOSE</th>\n",
       "      <th>NEW_GLUCOSE*INSULIN</th>\n",
       "      <th>NEW_AGE_BMI_NOM_Healthysenior</th>\n",
       "      <th>NEW_AGE_BMI_NOM_Obesemature</th>\n",
       "      <th>NEW_AGE_BMI_NOM_Obesesenior</th>\n",
       "      <th>NEW_AGE_BMI_NOM_Overweightmature</th>\n",
       "      <th>NEW_AGE_BMI_NOM_Overweightsenior</th>\n",
       "      <th>NEW_AGE_BMI_NOM_Underwightmature</th>\n",
       "      <th>NEW_AGE_GLUCOSE_NOM_Normalsenior</th>\n",
       "      <th>NEW_AGE_GLUCOSE_NOM_Prediabetesmature</th>\n",
       "      <th>NEW_AGE_GLUCOSE_NOM_Prediabetessenior</th>\n",
       "      <th>NEW_BMI_Healthy</th>\n",
       "      <th>NEW_BMI_Overweight</th>\n",
       "      <th>NEW_BMI_Obese</th>\n",
       "    </tr>\n",
       "  </thead>\n",
       "  <tbody>\n",
       "    <tr>\n",
       "      <th>0</th>\n",
       "      <td>0.647</td>\n",
       "      <td>0.866</td>\n",
       "      <td>-0.031</td>\n",
       "      <td>0.825</td>\n",
       "      <td>0.039</td>\n",
       "      <td>0.181</td>\n",
       "      <td>0.589</td>\n",
       "      <td>1.446</td>\n",
       "      <td>1</td>\n",
       "      <td>1</td>\n",
       "      <td>1</td>\n",
       "      <td>0.750</td>\n",
       "      <td>0</td>\n",
       "      <td>0</td>\n",
       "      <td>1</td>\n",
       "      <td>0</td>\n",
       "      <td>0</td>\n",
       "      <td>0</td>\n",
       "      <td>0</td>\n",
       "      <td>0</td>\n",
       "      <td>1</td>\n",
       "      <td>0</td>\n",
       "      <td>0</td>\n",
       "      <td>1</td>\n",
       "    </tr>\n",
       "    <tr>\n",
       "      <th>1</th>\n",
       "      <td>-0.849</td>\n",
       "      <td>-1.205</td>\n",
       "      <td>-0.544</td>\n",
       "      <td>0.018</td>\n",
       "      <td>0.039</td>\n",
       "      <td>-0.869</td>\n",
       "      <td>-0.378</td>\n",
       "      <td>-0.189</td>\n",
       "      <td>0</td>\n",
       "      <td>0</td>\n",
       "      <td>0</td>\n",
       "      <td>-1.078</td>\n",
       "      <td>0</td>\n",
       "      <td>0</td>\n",
       "      <td>0</td>\n",
       "      <td>1</td>\n",
       "      <td>0</td>\n",
       "      <td>0</td>\n",
       "      <td>0</td>\n",
       "      <td>0</td>\n",
       "      <td>0</td>\n",
       "      <td>0</td>\n",
       "      <td>1</td>\n",
       "      <td>0</td>\n",
       "    </tr>\n",
       "    <tr>\n",
       "      <th>2</th>\n",
       "      <td>1.246</td>\n",
       "      <td>2.017</td>\n",
       "      <td>-0.715</td>\n",
       "      <td>0.018</td>\n",
       "      <td>0.039</td>\n",
       "      <td>-1.365</td>\n",
       "      <td>0.747</td>\n",
       "      <td>-0.103</td>\n",
       "      <td>1</td>\n",
       "      <td>0</td>\n",
       "      <td>1</td>\n",
       "      <td>1.766</td>\n",
       "      <td>0</td>\n",
       "      <td>0</td>\n",
       "      <td>0</td>\n",
       "      <td>0</td>\n",
       "      <td>0</td>\n",
       "      <td>0</td>\n",
       "      <td>0</td>\n",
       "      <td>1</td>\n",
       "      <td>0</td>\n",
       "      <td>1</td>\n",
       "      <td>0</td>\n",
       "      <td>0</td>\n",
       "    </tr>\n",
       "    <tr>\n",
       "      <th>3</th>\n",
       "      <td>-0.849</td>\n",
       "      <td>-1.074</td>\n",
       "      <td>-0.544</td>\n",
       "      <td>-0.789</td>\n",
       "      <td>-1.494</td>\n",
       "      <td>-0.644</td>\n",
       "      <td>-1.023</td>\n",
       "      <td>-1.050</td>\n",
       "      <td>0</td>\n",
       "      <td>0</td>\n",
       "      <td>0</td>\n",
       "      <td>-1.212</td>\n",
       "      <td>0</td>\n",
       "      <td>0</td>\n",
       "      <td>0</td>\n",
       "      <td>1</td>\n",
       "      <td>0</td>\n",
       "      <td>0</td>\n",
       "      <td>0</td>\n",
       "      <td>0</td>\n",
       "      <td>0</td>\n",
       "      <td>0</td>\n",
       "      <td>1</td>\n",
       "      <td>0</td>\n",
       "    </tr>\n",
       "    <tr>\n",
       "      <th>4</th>\n",
       "      <td>-1.148</td>\n",
       "      <td>0.504</td>\n",
       "      <td>-2.768</td>\n",
       "      <td>0.825</td>\n",
       "      <td>1.414</td>\n",
       "      <td>1.607</td>\n",
       "      <td>2.597</td>\n",
       "      <td>-0.017</td>\n",
       "      <td>1</td>\n",
       "      <td>0</td>\n",
       "      <td>0</td>\n",
       "      <td>0.777</td>\n",
       "      <td>0</td>\n",
       "      <td>1</td>\n",
       "      <td>0</td>\n",
       "      <td>0</td>\n",
       "      <td>0</td>\n",
       "      <td>0</td>\n",
       "      <td>0</td>\n",
       "      <td>0</td>\n",
       "      <td>0</td>\n",
       "      <td>0</td>\n",
       "      <td>0</td>\n",
       "      <td>1</td>\n",
       "    </tr>\n",
       "  </tbody>\n",
       "</table>\n",
       "</div>"
      ],
      "text/plain": [
       "   PREGNANCIES  GLUCOSE  BLOODPRESSURE  SKINTHICKNESS  INSULIN    BMI  DIABETESPEDIGREEFUNCTION    AGE  OUTCOME  NEW_AGE_CAT  NEW_GLUCOSE  NEW_GLUCOSE*INSULIN  NEW_AGE_BMI_NOM_Healthysenior  NEW_AGE_BMI_NOM_Obesemature  NEW_AGE_BMI_NOM_Obesesenior  NEW_AGE_BMI_NOM_Overweightmature  NEW_AGE_BMI_NOM_Overweightsenior  NEW_AGE_BMI_NOM_Underwightmature  NEW_AGE_GLUCOSE_NOM_Normalsenior  NEW_AGE_GLUCOSE_NOM_Prediabetesmature  NEW_AGE_GLUCOSE_NOM_Prediabetessenior  NEW_BMI_Healthy  \\\n",
       "0        0.647    0.866         -0.031          0.825    0.039  0.181                     0.589  1.446        1            1            1                0.750                              0                            0                            1                                 0                                 0                                 0                                 0                                      0                                      1                0   \n",
       "1       -0.849   -1.205         -0.544          0.018    0.039 -0.869                    -0.378 -0.189        0            0            0               -1.078                              0                            0                            0                                 1                                 0                                 0                                 0                                      0                                      0                0   \n",
       "2        1.246    2.017         -0.715          0.018    0.039 -1.365                     0.747 -0.103        1            0            1                1.766                              0                            0                            0                                 0                                 0                                 0                                 0                                      1                                      0                1   \n",
       "3       -0.849   -1.074         -0.544         -0.789   -1.494 -0.644                    -1.023 -1.050        0            0            0               -1.212                              0                            0                            0                                 1                                 0                                 0                                 0                                      0                                      0                0   \n",
       "4       -1.148    0.504         -2.768          0.825    1.414  1.607                     2.597 -0.017        1            0            0                0.777                              0                            1                            0                                 0                                 0                                 0                                 0                                      0                                      0                0   \n",
       "\n",
       "   NEW_BMI_Overweight  NEW_BMI_Obese  \n",
       "0                   0              1  \n",
       "1                   1              0  \n",
       "2                   0              0  \n",
       "3                   1              0  \n",
       "4                   0              1  "
      ]
     },
     "execution_count": 87,
     "metadata": {},
     "output_type": "execute_result"
    }
   ],
   "source": [
    "df.head()"
   ]
  },
  {
   "cell_type": "markdown",
   "id": "40847fb2-fdd9-4a0e-9c56-1fcc56e3dc2c",
   "metadata": {},
   "source": [
    "Adım 5: Model oluşturunuz."
   ]
  },
  {
   "cell_type": "code",
   "execution_count": 93,
   "id": "d341e34d-61fe-4d9d-b55a-ebeab8f4ba08",
   "metadata": {},
   "outputs": [],
   "source": [
    "y = df[\"OUTCOME\"]\n",
    "X= df.drop(\"OUTCOME\",axis=1)\n",
    "X_train,X_test,y_train,y_test = train_test_split(X,y,test_size=0.30,random_state=17)"
   ]
  },
  {
   "cell_type": "code",
   "execution_count": 94,
   "id": "5859df75-0a90-4e4e-9756-10ab3a913910",
   "metadata": {},
   "outputs": [],
   "source": [
    "rf_model = RandomForestClassifier(random_state=46).fit(X_train,y_train)\n",
    "y_pred = rf_model.predict(X_test)"
   ]
  },
  {
   "cell_type": "code",
   "execution_count": 102,
   "id": "7339f2b7-6b97-4483-8fac-3dd97a05463b",
   "metadata": {},
   "outputs": [
    {
     "name": "stdout",
     "output_type": "stream",
     "text": [
      "Accuracy : 0.79\n",
      "Recall : 0.732\n",
      "Precision : 0.64\n",
      "F1 : 0.68\n",
      "Auc : 0.78\n"
     ]
    }
   ],
   "source": [
    "print(f\"Accuracy : {round(accuracy_score(y_pred, y_test), 2)}\")\n",
    "print(f\"Recall : {round(recall_score(y_pred, y_test), 3)}\")\n",
    "print(f\"Precision : {round(precision_score(y_pred, y_test), 2)}\")\n",
    "print(f\"F1 : {round(f1_score(y_pred, y_test), 2)}\")\n",
    "print(f\"Auc : {round(roc_auc_score(y_pred, y_test), 2)}\")"
   ]
  },
  {
   "cell_type": "markdown",
   "id": "9fab6cc3-04cd-4c08-95df-33c67ed37fcb",
   "metadata": {},
   "source": [
    "### Feature Importance"
   ]
  },
  {
   "cell_type": "code",
   "execution_count": 104,
   "id": "1bf859fd-51ab-4988-8aac-a4721d5ab0da",
   "metadata": {},
   "outputs": [],
   "source": [
    "def plot_importance(model, features, num=len(X), save=False):\n",
    "    feature_imp = pd.DataFrame({\"Value\" : model.feature_importances_ , \"Feature\" : features.columns})\n",
    "    print(feature_imp.sort_values(\"Value\",ascending=False))\n",
    "    plt.figure(figsize=(10,10))\n",
    "    sns.set(font_scale=1)\n",
    "    sns.barplot(x=\"Value\",y=\"Feature\",data=feature_imp.sort_values(by=\"Value\",ascending=False)[0:num])\n",
    "\n",
    "    plt.title(\"Features\")\n",
    "    plt.tight_layout()\n",
    "    plt.show(block=True)\n",
    "    if save:\n",
    "        plt.savefig(\"importances.png\")"
   ]
  },
  {
   "cell_type": "code",
   "execution_count": 105,
   "id": "3ae9dd77-0957-40f5-b61d-8ce9f83dcb51",
   "metadata": {},
   "outputs": [
    {
     "name": "stdout",
     "output_type": "stream",
     "text": [
      "    Value                                Feature\n",
      "10  0.177                    NEW_GLUCOSE*INSULIN\n",
      "1   0.145                                GLUCOSE\n",
      "7   0.110                                    AGE\n",
      "5   0.103                                    BMI\n",
      "6   0.095               DIABETESPEDIGREEFUNCTION\n",
      "0   0.079                            PREGNANCIES\n",
      "2   0.063                          BLOODPRESSURE\n",
      "3   0.062                          SKINTHICKNESS\n",
      "4   0.040                                INSULIN\n",
      "18  0.031  NEW_AGE_GLUCOSE_NOM_Prediabetesmature\n",
      "9   0.029                            NEW_GLUCOSE\n",
      "22  0.012                          NEW_BMI_Obese\n",
      "20  0.010                        NEW_BMI_Healthy\n",
      "12  0.008            NEW_AGE_BMI_NOM_Obesemature\n",
      "21  0.006                     NEW_BMI_Overweight\n",
      "14  0.006       NEW_AGE_BMI_NOM_Overweightmature\n",
      "8   0.005                            NEW_AGE_CAT\n",
      "15  0.005       NEW_AGE_BMI_NOM_Overweightsenior\n",
      "13  0.004            NEW_AGE_BMI_NOM_Obesesenior\n",
      "17  0.004       NEW_AGE_GLUCOSE_NOM_Normalsenior\n",
      "19  0.003  NEW_AGE_GLUCOSE_NOM_Prediabetessenior\n",
      "11  0.001          NEW_AGE_BMI_NOM_Healthysenior\n",
      "16  0.000       NEW_AGE_BMI_NOM_Underwightmature\n"
     ]
    },
    {
     "data": {
      "image/png": "[encoded data removed]",
      "text/plain": [
       "<Figure size 1000x1000 with 1 Axes>"
      ]
     },
     "metadata": {},
     "output_type": "display_data"
    }
   ],
   "source": [
    "    plot_importance(rf_model,X)"
   ]
  },
  {
   "cell_type": "code",
   "execution_count": null,
   "id": "4faca401-658b-44d9-8ec4-ae031363944b",
   "metadata": {},
   "outputs": [],
   "source": []
  }
 ],
 "metadata": {
  "kernelspec": {
   "display_name": "Python 3 (ipykernel)",
   "language": "python",
   "name": "python3"
  },
  "language_info": {
   "codemirror_mode": {
    "name": "ipython",
    "version": 3
   },
   "file_extension": ".py",
   "mimetype": "text/x-python",
   "name": "python",
   "nbconvert_exporter": "python",
   "pygments_lexer": "ipython3",
   "version": "3.11.3"
  }
 },
 "nbformat": 4,
 "nbformat_minor": 5
}
